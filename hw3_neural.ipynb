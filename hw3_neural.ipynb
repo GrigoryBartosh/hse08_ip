{
  "nbformat": 4,
  "nbformat_minor": 0,
  "metadata": {
    "accelerator": "GPU",
    "colab": {
      "name": "hw32.ipynb",
      "provenance": [],
      "toc_visible": true,
      "include_colab_link": true
    },
    "kernelspec": {
      "name": "python3",
      "display_name": "Python 3"
    },
    "language_info": {
      "codemirror_mode": {
        "name": "ipython",
        "version": 3
      },
      "file_extension": ".py",
      "mimetype": "text/x-python",
      "name": "python",
      "nbconvert_exporter": "python",
      "pygments_lexer": "ipython3",
      "version": "3.6.6"
    },
    "widgets": {
      "application/vnd.jupyter.widget-state+json": {
        "9fd98705ea11447f94c0d5ecab78a0d8": {
          "model_module": "@jupyter-widgets/controls",
          "model_name": "HBoxModel",
          "state": {
            "_view_name": "HBoxView",
            "_dom_classes": [],
            "_model_name": "HBoxModel",
            "_view_module": "@jupyter-widgets/controls",
            "_model_module_version": "1.5.0",
            "_view_count": null,
            "_view_module_version": "1.5.0",
            "box_style": "",
            "layout": "IPY_MODEL_65fb7ac32d61485e8d22666e15abab69",
            "_model_module": "@jupyter-widgets/controls",
            "children": [
              "IPY_MODEL_df72314fb8724f92bc4030c9e25b7ba9",
              "IPY_MODEL_12c4bc63e3ff4bbd97e5a21dbc5809e1"
            ]
          }
        },
        "65fb7ac32d61485e8d22666e15abab69": {
          "model_module": "@jupyter-widgets/base",
          "model_name": "LayoutModel",
          "state": {
            "_view_name": "LayoutView",
            "grid_template_rows": null,
            "right": null,
            "justify_content": null,
            "_view_module": "@jupyter-widgets/base",
            "overflow": null,
            "_model_module_version": "1.2.0",
            "_view_count": null,
            "flex_flow": null,
            "width": null,
            "min_width": null,
            "border": null,
            "align_items": null,
            "bottom": null,
            "_model_module": "@jupyter-widgets/base",
            "top": null,
            "grid_column": null,
            "overflow_y": null,
            "overflow_x": null,
            "grid_auto_flow": null,
            "grid_area": null,
            "grid_template_columns": null,
            "flex": null,
            "_model_name": "LayoutModel",
            "justify_items": null,
            "grid_row": null,
            "max_height": null,
            "align_content": null,
            "visibility": null,
            "align_self": null,
            "height": null,
            "min_height": null,
            "padding": null,
            "grid_auto_rows": null,
            "grid_gap": null,
            "max_width": null,
            "order": null,
            "_view_module_version": "1.2.0",
            "grid_template_areas": null,
            "object_position": null,
            "object_fit": null,
            "grid_auto_columns": null,
            "margin": null,
            "display": null,
            "left": null
          }
        },
        "df72314fb8724f92bc4030c9e25b7ba9": {
          "model_module": "@jupyter-widgets/controls",
          "model_name": "IntProgressModel",
          "state": {
            "_view_name": "ProgressView",
            "style": "IPY_MODEL_febb29bd22ae4337bc1912bb7ababfca",
            "_dom_classes": [],
            "description": "",
            "_model_name": "IntProgressModel",
            "bar_style": "success",
            "max": 1,
            "_view_module": "@jupyter-widgets/controls",
            "_model_module_version": "1.5.0",
            "value": 1,
            "_view_count": null,
            "_view_module_version": "1.5.0",
            "orientation": "horizontal",
            "min": 0,
            "description_tooltip": null,
            "_model_module": "@jupyter-widgets/controls",
            "layout": "IPY_MODEL_c186a934ace3446c973ee07a35e8e3ec"
          }
        },
        "12c4bc63e3ff4bbd97e5a21dbc5809e1": {
          "model_module": "@jupyter-widgets/controls",
          "model_name": "HTMLModel",
          "state": {
            "_view_name": "HTMLView",
            "style": "IPY_MODEL_a5086d2d05d545ca833ed1e9526cc948",
            "_dom_classes": [],
            "description": "",
            "_model_name": "HTMLModel",
            "placeholder": "​",
            "_view_module": "@jupyter-widgets/controls",
            "_model_module_version": "1.5.0",
            "value": "25432it [00:12, 2036.69it/s]",
            "_view_count": null,
            "_view_module_version": "1.5.0",
            "description_tooltip": null,
            "_model_module": "@jupyter-widgets/controls",
            "layout": "IPY_MODEL_5577528e6dd04a9586d30d12347814b1"
          }
        },
        "febb29bd22ae4337bc1912bb7ababfca": {
          "model_module": "@jupyter-widgets/controls",
          "model_name": "ProgressStyleModel",
          "state": {
            "_view_name": "StyleView",
            "_model_name": "ProgressStyleModel",
            "description_width": "",
            "_view_module": "@jupyter-widgets/base",
            "_model_module_version": "1.5.0",
            "_view_count": null,
            "_view_module_version": "1.2.0",
            "bar_color": null,
            "_model_module": "@jupyter-widgets/controls"
          }
        },
        "c186a934ace3446c973ee07a35e8e3ec": {
          "model_module": "@jupyter-widgets/base",
          "model_name": "LayoutModel",
          "state": {
            "_view_name": "LayoutView",
            "grid_template_rows": null,
            "right": null,
            "justify_content": null,
            "_view_module": "@jupyter-widgets/base",
            "overflow": null,
            "_model_module_version": "1.2.0",
            "_view_count": null,
            "flex_flow": null,
            "width": null,
            "min_width": null,
            "border": null,
            "align_items": null,
            "bottom": null,
            "_model_module": "@jupyter-widgets/base",
            "top": null,
            "grid_column": null,
            "overflow_y": null,
            "overflow_x": null,
            "grid_auto_flow": null,
            "grid_area": null,
            "grid_template_columns": null,
            "flex": null,
            "_model_name": "LayoutModel",
            "justify_items": null,
            "grid_row": null,
            "max_height": null,
            "align_content": null,
            "visibility": null,
            "align_self": null,
            "height": null,
            "min_height": null,
            "padding": null,
            "grid_auto_rows": null,
            "grid_gap": null,
            "max_width": null,
            "order": null,
            "_view_module_version": "1.2.0",
            "grid_template_areas": null,
            "object_position": null,
            "object_fit": null,
            "grid_auto_columns": null,
            "margin": null,
            "display": null,
            "left": null
          }
        },
        "a5086d2d05d545ca833ed1e9526cc948": {
          "model_module": "@jupyter-widgets/controls",
          "model_name": "DescriptionStyleModel",
          "state": {
            "_view_name": "StyleView",
            "_model_name": "DescriptionStyleModel",
            "description_width": "",
            "_view_module": "@jupyter-widgets/base",
            "_model_module_version": "1.5.0",
            "_view_count": null,
            "_view_module_version": "1.2.0",
            "_model_module": "@jupyter-widgets/controls"
          }
        },
        "5577528e6dd04a9586d30d12347814b1": {
          "model_module": "@jupyter-widgets/base",
          "model_name": "LayoutModel",
          "state": {
            "_view_name": "LayoutView",
            "grid_template_rows": null,
            "right": null,
            "justify_content": null,
            "_view_module": "@jupyter-widgets/base",
            "overflow": null,
            "_model_module_version": "1.2.0",
            "_view_count": null,
            "flex_flow": null,
            "width": null,
            "min_width": null,
            "border": null,
            "align_items": null,
            "bottom": null,
            "_model_module": "@jupyter-widgets/base",
            "top": null,
            "grid_column": null,
            "overflow_y": null,
            "overflow_x": null,
            "grid_auto_flow": null,
            "grid_area": null,
            "grid_template_columns": null,
            "flex": null,
            "_model_name": "LayoutModel",
            "justify_items": null,
            "grid_row": null,
            "max_height": null,
            "align_content": null,
            "visibility": null,
            "align_self": null,
            "height": null,
            "min_height": null,
            "padding": null,
            "grid_auto_rows": null,
            "grid_gap": null,
            "max_width": null,
            "order": null,
            "_view_module_version": "1.2.0",
            "grid_template_areas": null,
            "object_position": null,
            "object_fit": null,
            "grid_auto_columns": null,
            "margin": null,
            "display": null,
            "left": null
          }
        },
        "802cb7b926d5489598bccfbd61a567b9": {
          "model_module": "@jupyter-widgets/controls",
          "model_name": "HBoxModel",
          "state": {
            "_view_name": "HBoxView",
            "_dom_classes": [],
            "_model_name": "HBoxModel",
            "_view_module": "@jupyter-widgets/controls",
            "_model_module_version": "1.5.0",
            "_view_count": null,
            "_view_module_version": "1.5.0",
            "box_style": "",
            "layout": "IPY_MODEL_7d4960c1d6064cd7a3acecb4ae64428e",
            "_model_module": "@jupyter-widgets/controls",
            "children": [
              "IPY_MODEL_051b4745781441a78b708f6df26b398b",
              "IPY_MODEL_7f7014cdf5b0429d9528880f39cd0dfb"
            ]
          }
        },
        "7d4960c1d6064cd7a3acecb4ae64428e": {
          "model_module": "@jupyter-widgets/base",
          "model_name": "LayoutModel",
          "state": {
            "_view_name": "LayoutView",
            "grid_template_rows": null,
            "right": null,
            "justify_content": null,
            "_view_module": "@jupyter-widgets/base",
            "overflow": null,
            "_model_module_version": "1.2.0",
            "_view_count": null,
            "flex_flow": null,
            "width": null,
            "min_width": null,
            "border": null,
            "align_items": null,
            "bottom": null,
            "_model_module": "@jupyter-widgets/base",
            "top": null,
            "grid_column": null,
            "overflow_y": null,
            "overflow_x": null,
            "grid_auto_flow": null,
            "grid_area": null,
            "grid_template_columns": null,
            "flex": null,
            "_model_name": "LayoutModel",
            "justify_items": null,
            "grid_row": null,
            "max_height": null,
            "align_content": null,
            "visibility": null,
            "align_self": null,
            "height": null,
            "min_height": null,
            "padding": null,
            "grid_auto_rows": null,
            "grid_gap": null,
            "max_width": null,
            "order": null,
            "_view_module_version": "1.2.0",
            "grid_template_areas": null,
            "object_position": null,
            "object_fit": null,
            "grid_auto_columns": null,
            "margin": null,
            "display": null,
            "left": null
          }
        },
        "051b4745781441a78b708f6df26b398b": {
          "model_module": "@jupyter-widgets/controls",
          "model_name": "IntProgressModel",
          "state": {
            "_view_name": "ProgressView",
            "style": "IPY_MODEL_e7a8f5ec288d4521af083771c54a94e7",
            "_dom_classes": [],
            "description": "",
            "_model_name": "IntProgressModel",
            "bar_style": "success",
            "max": 105,
            "_view_module": "@jupyter-widgets/controls",
            "_model_module_version": "1.5.0",
            "value": 105,
            "_view_count": null,
            "_view_module_version": "1.5.0",
            "orientation": "horizontal",
            "min": 0,
            "description_tooltip": null,
            "_model_module": "@jupyter-widgets/controls",
            "layout": "IPY_MODEL_8156f715490e4ad9b421ba2ff591a39e"
          }
        },
        "7f7014cdf5b0429d9528880f39cd0dfb": {
          "model_module": "@jupyter-widgets/controls",
          "model_name": "HTMLModel",
          "state": {
            "_view_name": "HTMLView",
            "style": "IPY_MODEL_58ceba13ff3948458eb4fdf2696a32cb",
            "_dom_classes": [],
            "description": "",
            "_model_name": "HTMLModel",
            "placeholder": "​",
            "_view_module": "@jupyter-widgets/controls",
            "_model_module_version": "1.5.0",
            "value": "100% 105/105 [14:43&lt;00:00,  8.36s/it]",
            "_view_count": null,
            "_view_module_version": "1.5.0",
            "description_tooltip": null,
            "_model_module": "@jupyter-widgets/controls",
            "layout": "IPY_MODEL_146f3df45ec54205a4499470d7a42839"
          }
        },
        "e7a8f5ec288d4521af083771c54a94e7": {
          "model_module": "@jupyter-widgets/controls",
          "model_name": "ProgressStyleModel",
          "state": {
            "_view_name": "StyleView",
            "_model_name": "ProgressStyleModel",
            "description_width": "",
            "_view_module": "@jupyter-widgets/base",
            "_model_module_version": "1.5.0",
            "_view_count": null,
            "_view_module_version": "1.2.0",
            "bar_color": null,
            "_model_module": "@jupyter-widgets/controls"
          }
        },
        "8156f715490e4ad9b421ba2ff591a39e": {
          "model_module": "@jupyter-widgets/base",
          "model_name": "LayoutModel",
          "state": {
            "_view_name": "LayoutView",
            "grid_template_rows": null,
            "right": null,
            "justify_content": null,
            "_view_module": "@jupyter-widgets/base",
            "overflow": null,
            "_model_module_version": "1.2.0",
            "_view_count": null,
            "flex_flow": null,
            "width": null,
            "min_width": null,
            "border": null,
            "align_items": null,
            "bottom": null,
            "_model_module": "@jupyter-widgets/base",
            "top": null,
            "grid_column": null,
            "overflow_y": null,
            "overflow_x": null,
            "grid_auto_flow": null,
            "grid_area": null,
            "grid_template_columns": null,
            "flex": null,
            "_model_name": "LayoutModel",
            "justify_items": null,
            "grid_row": null,
            "max_height": null,
            "align_content": null,
            "visibility": null,
            "align_self": null,
            "height": null,
            "min_height": null,
            "padding": null,
            "grid_auto_rows": null,
            "grid_gap": null,
            "max_width": null,
            "order": null,
            "_view_module_version": "1.2.0",
            "grid_template_areas": null,
            "object_position": null,
            "object_fit": null,
            "grid_auto_columns": null,
            "margin": null,
            "display": null,
            "left": null
          }
        },
        "58ceba13ff3948458eb4fdf2696a32cb": {
          "model_module": "@jupyter-widgets/controls",
          "model_name": "DescriptionStyleModel",
          "state": {
            "_view_name": "StyleView",
            "_model_name": "DescriptionStyleModel",
            "description_width": "",
            "_view_module": "@jupyter-widgets/base",
            "_model_module_version": "1.5.0",
            "_view_count": null,
            "_view_module_version": "1.2.0",
            "_model_module": "@jupyter-widgets/controls"
          }
        },
        "146f3df45ec54205a4499470d7a42839": {
          "model_module": "@jupyter-widgets/base",
          "model_name": "LayoutModel",
          "state": {
            "_view_name": "LayoutView",
            "grid_template_rows": null,
            "right": null,
            "justify_content": null,
            "_view_module": "@jupyter-widgets/base",
            "overflow": null,
            "_model_module_version": "1.2.0",
            "_view_count": null,
            "flex_flow": null,
            "width": null,
            "min_width": null,
            "border": null,
            "align_items": null,
            "bottom": null,
            "_model_module": "@jupyter-widgets/base",
            "top": null,
            "grid_column": null,
            "overflow_y": null,
            "overflow_x": null,
            "grid_auto_flow": null,
            "grid_area": null,
            "grid_template_columns": null,
            "flex": null,
            "_model_name": "LayoutModel",
            "justify_items": null,
            "grid_row": null,
            "max_height": null,
            "align_content": null,
            "visibility": null,
            "align_self": null,
            "height": null,
            "min_height": null,
            "padding": null,
            "grid_auto_rows": null,
            "grid_gap": null,
            "max_width": null,
            "order": null,
            "_view_module_version": "1.2.0",
            "grid_template_areas": null,
            "object_position": null,
            "object_fit": null,
            "grid_auto_columns": null,
            "margin": null,
            "display": null,
            "left": null
          }
        },
        "1d351438091c4f22855c9d9d97a87704": {
          "model_module": "@jupyter-widgets/controls",
          "model_name": "HBoxModel",
          "state": {
            "_view_name": "HBoxView",
            "_dom_classes": [],
            "_model_name": "HBoxModel",
            "_view_module": "@jupyter-widgets/controls",
            "_model_module_version": "1.5.0",
            "_view_count": null,
            "_view_module_version": "1.5.0",
            "box_style": "",
            "layout": "IPY_MODEL_2c41ed8c8aa34e9e9f6bb75c1eaed06d",
            "_model_module": "@jupyter-widgets/controls",
            "children": [
              "IPY_MODEL_2fcdf5e7dfd04e928e7c52c0b86671f1",
              "IPY_MODEL_67f785dc100a4ebaa7f3c2ca3109e9c4"
            ]
          }
        },
        "2c41ed8c8aa34e9e9f6bb75c1eaed06d": {
          "model_module": "@jupyter-widgets/base",
          "model_name": "LayoutModel",
          "state": {
            "_view_name": "LayoutView",
            "grid_template_rows": null,
            "right": null,
            "justify_content": null,
            "_view_module": "@jupyter-widgets/base",
            "overflow": null,
            "_model_module_version": "1.2.0",
            "_view_count": null,
            "flex_flow": null,
            "width": null,
            "min_width": null,
            "border": null,
            "align_items": null,
            "bottom": null,
            "_model_module": "@jupyter-widgets/base",
            "top": null,
            "grid_column": null,
            "overflow_y": null,
            "overflow_x": null,
            "grid_auto_flow": null,
            "grid_area": null,
            "grid_template_columns": null,
            "flex": null,
            "_model_name": "LayoutModel",
            "justify_items": null,
            "grid_row": null,
            "max_height": null,
            "align_content": null,
            "visibility": null,
            "align_self": null,
            "height": null,
            "min_height": null,
            "padding": null,
            "grid_auto_rows": null,
            "grid_gap": null,
            "max_width": null,
            "order": null,
            "_view_module_version": "1.2.0",
            "grid_template_areas": null,
            "object_position": null,
            "object_fit": null,
            "grid_auto_columns": null,
            "margin": null,
            "display": null,
            "left": null
          }
        },
        "2fcdf5e7dfd04e928e7c52c0b86671f1": {
          "model_module": "@jupyter-widgets/controls",
          "model_name": "IntProgressModel",
          "state": {
            "_view_name": "ProgressView",
            "style": "IPY_MODEL_e9cba2f2bf5f4949a528aed631f5cef1",
            "_dom_classes": [],
            "description": "",
            "_model_name": "IntProgressModel",
            "bar_style": "success",
            "max": 22888,
            "_view_module": "@jupyter-widgets/controls",
            "_model_module_version": "1.5.0",
            "value": 22888,
            "_view_count": null,
            "_view_module_version": "1.5.0",
            "orientation": "horizontal",
            "min": 0,
            "description_tooltip": null,
            "_model_module": "@jupyter-widgets/controls",
            "layout": "IPY_MODEL_6192cd839ffb49babe46821922d0b3dc"
          }
        },
        "67f785dc100a4ebaa7f3c2ca3109e9c4": {
          "model_module": "@jupyter-widgets/controls",
          "model_name": "HTMLModel",
          "state": {
            "_view_name": "HTMLView",
            "style": "IPY_MODEL_08e8a2291b0f4e398fd859581553ffad",
            "_dom_classes": [],
            "description": "",
            "_model_name": "HTMLModel",
            "placeholder": "​",
            "_view_module": "@jupyter-widgets/controls",
            "_model_module_version": "1.5.0",
            "value": "100% 22888/22888 [00:45&lt;00:00, 503.97it/s]",
            "_view_count": null,
            "_view_module_version": "1.5.0",
            "description_tooltip": null,
            "_model_module": "@jupyter-widgets/controls",
            "layout": "IPY_MODEL_8b773507621341da932783cb4b450486"
          }
        },
        "e9cba2f2bf5f4949a528aed631f5cef1": {
          "model_module": "@jupyter-widgets/controls",
          "model_name": "ProgressStyleModel",
          "state": {
            "_view_name": "StyleView",
            "_model_name": "ProgressStyleModel",
            "description_width": "",
            "_view_module": "@jupyter-widgets/base",
            "_model_module_version": "1.5.0",
            "_view_count": null,
            "_view_module_version": "1.2.0",
            "bar_color": null,
            "_model_module": "@jupyter-widgets/controls"
          }
        },
        "6192cd839ffb49babe46821922d0b3dc": {
          "model_module": "@jupyter-widgets/base",
          "model_name": "LayoutModel",
          "state": {
            "_view_name": "LayoutView",
            "grid_template_rows": null,
            "right": null,
            "justify_content": null,
            "_view_module": "@jupyter-widgets/base",
            "overflow": null,
            "_model_module_version": "1.2.0",
            "_view_count": null,
            "flex_flow": null,
            "width": null,
            "min_width": null,
            "border": null,
            "align_items": null,
            "bottom": null,
            "_model_module": "@jupyter-widgets/base",
            "top": null,
            "grid_column": null,
            "overflow_y": null,
            "overflow_x": null,
            "grid_auto_flow": null,
            "grid_area": null,
            "grid_template_columns": null,
            "flex": null,
            "_model_name": "LayoutModel",
            "justify_items": null,
            "grid_row": null,
            "max_height": null,
            "align_content": null,
            "visibility": null,
            "align_self": null,
            "height": null,
            "min_height": null,
            "padding": null,
            "grid_auto_rows": null,
            "grid_gap": null,
            "max_width": null,
            "order": null,
            "_view_module_version": "1.2.0",
            "grid_template_areas": null,
            "object_position": null,
            "object_fit": null,
            "grid_auto_columns": null,
            "margin": null,
            "display": null,
            "left": null
          }
        },
        "08e8a2291b0f4e398fd859581553ffad": {
          "model_module": "@jupyter-widgets/controls",
          "model_name": "DescriptionStyleModel",
          "state": {
            "_view_name": "StyleView",
            "_model_name": "DescriptionStyleModel",
            "description_width": "",
            "_view_module": "@jupyter-widgets/base",
            "_model_module_version": "1.5.0",
            "_view_count": null,
            "_view_module_version": "1.2.0",
            "_model_module": "@jupyter-widgets/controls"
          }
        },
        "8b773507621341da932783cb4b450486": {
          "model_module": "@jupyter-widgets/base",
          "model_name": "LayoutModel",
          "state": {
            "_view_name": "LayoutView",
            "grid_template_rows": null,
            "right": null,
            "justify_content": null,
            "_view_module": "@jupyter-widgets/base",
            "overflow": null,
            "_model_module_version": "1.2.0",
            "_view_count": null,
            "flex_flow": null,
            "width": null,
            "min_width": null,
            "border": null,
            "align_items": null,
            "bottom": null,
            "_model_module": "@jupyter-widgets/base",
            "top": null,
            "grid_column": null,
            "overflow_y": null,
            "overflow_x": null,
            "grid_auto_flow": null,
            "grid_area": null,
            "grid_template_columns": null,
            "flex": null,
            "_model_name": "LayoutModel",
            "justify_items": null,
            "grid_row": null,
            "max_height": null,
            "align_content": null,
            "visibility": null,
            "align_self": null,
            "height": null,
            "min_height": null,
            "padding": null,
            "grid_auto_rows": null,
            "grid_gap": null,
            "max_width": null,
            "order": null,
            "_view_module_version": "1.2.0",
            "grid_template_areas": null,
            "object_position": null,
            "object_fit": null,
            "grid_auto_columns": null,
            "margin": null,
            "display": null,
            "left": null
          }
        },
        "72425c55b0c74c3581b5ad49ba53cbd2": {
          "model_module": "@jupyter-widgets/controls",
          "model_name": "HBoxModel",
          "state": {
            "_view_name": "HBoxView",
            "_dom_classes": [],
            "_model_name": "HBoxModel",
            "_view_module": "@jupyter-widgets/controls",
            "_model_module_version": "1.5.0",
            "_view_count": null,
            "_view_module_version": "1.5.0",
            "box_style": "",
            "layout": "IPY_MODEL_551c9f2e2bec47b78de9147b42bc5206",
            "_model_module": "@jupyter-widgets/controls",
            "children": [
              "IPY_MODEL_ac0356d34afb423ea10dfc4d7b72bc7f",
              "IPY_MODEL_7cdabdbb0bd945fc8c3b9fc5eb7c1ffc"
            ]
          }
        },
        "551c9f2e2bec47b78de9147b42bc5206": {
          "model_module": "@jupyter-widgets/base",
          "model_name": "LayoutModel",
          "state": {
            "_view_name": "LayoutView",
            "grid_template_rows": null,
            "right": null,
            "justify_content": null,
            "_view_module": "@jupyter-widgets/base",
            "overflow": null,
            "_model_module_version": "1.2.0",
            "_view_count": null,
            "flex_flow": null,
            "width": null,
            "min_width": null,
            "border": null,
            "align_items": null,
            "bottom": null,
            "_model_module": "@jupyter-widgets/base",
            "top": null,
            "grid_column": null,
            "overflow_y": null,
            "overflow_x": null,
            "grid_auto_flow": null,
            "grid_area": null,
            "grid_template_columns": null,
            "flex": null,
            "_model_name": "LayoutModel",
            "justify_items": null,
            "grid_row": null,
            "max_height": null,
            "align_content": null,
            "visibility": null,
            "align_self": null,
            "height": null,
            "min_height": null,
            "padding": null,
            "grid_auto_rows": null,
            "grid_gap": null,
            "max_width": null,
            "order": null,
            "_view_module_version": "1.2.0",
            "grid_template_areas": null,
            "object_position": null,
            "object_fit": null,
            "grid_auto_columns": null,
            "margin": null,
            "display": null,
            "left": null
          }
        },
        "ac0356d34afb423ea10dfc4d7b72bc7f": {
          "model_module": "@jupyter-widgets/controls",
          "model_name": "IntProgressModel",
          "state": {
            "_view_name": "ProgressView",
            "style": "IPY_MODEL_334cd5ba7e7b458fbe6d84e43d5ed024",
            "_dom_classes": [],
            "description": "",
            "_model_name": "IntProgressModel",
            "bar_style": "success",
            "max": 2544,
            "_view_module": "@jupyter-widgets/controls",
            "_model_module_version": "1.5.0",
            "value": 2544,
            "_view_count": null,
            "_view_module_version": "1.5.0",
            "orientation": "horizontal",
            "min": 0,
            "description_tooltip": null,
            "_model_module": "@jupyter-widgets/controls",
            "layout": "IPY_MODEL_06fbf2fc05264c8098e1afe8c1480a70"
          }
        },
        "7cdabdbb0bd945fc8c3b9fc5eb7c1ffc": {
          "model_module": "@jupyter-widgets/controls",
          "model_name": "HTMLModel",
          "state": {
            "_view_name": "HTMLView",
            "style": "IPY_MODEL_e5d6890718d742b6b53f7ef403b30a87",
            "_dom_classes": [],
            "description": "",
            "_model_name": "HTMLModel",
            "placeholder": "​",
            "_view_module": "@jupyter-widgets/controls",
            "_model_module_version": "1.5.0",
            "value": "100% 2544/2544 [00:05&lt;00:00, 494.08it/s]",
            "_view_count": null,
            "_view_module_version": "1.5.0",
            "description_tooltip": null,
            "_model_module": "@jupyter-widgets/controls",
            "layout": "IPY_MODEL_8f69b82d95324bbc9189b1750f8eabcd"
          }
        },
        "334cd5ba7e7b458fbe6d84e43d5ed024": {
          "model_module": "@jupyter-widgets/controls",
          "model_name": "ProgressStyleModel",
          "state": {
            "_view_name": "StyleView",
            "_model_name": "ProgressStyleModel",
            "description_width": "",
            "_view_module": "@jupyter-widgets/base",
            "_model_module_version": "1.5.0",
            "_view_count": null,
            "_view_module_version": "1.2.0",
            "bar_color": null,
            "_model_module": "@jupyter-widgets/controls"
          }
        },
        "06fbf2fc05264c8098e1afe8c1480a70": {
          "model_module": "@jupyter-widgets/base",
          "model_name": "LayoutModel",
          "state": {
            "_view_name": "LayoutView",
            "grid_template_rows": null,
            "right": null,
            "justify_content": null,
            "_view_module": "@jupyter-widgets/base",
            "overflow": null,
            "_model_module_version": "1.2.0",
            "_view_count": null,
            "flex_flow": null,
            "width": null,
            "min_width": null,
            "border": null,
            "align_items": null,
            "bottom": null,
            "_model_module": "@jupyter-widgets/base",
            "top": null,
            "grid_column": null,
            "overflow_y": null,
            "overflow_x": null,
            "grid_auto_flow": null,
            "grid_area": null,
            "grid_template_columns": null,
            "flex": null,
            "_model_name": "LayoutModel",
            "justify_items": null,
            "grid_row": null,
            "max_height": null,
            "align_content": null,
            "visibility": null,
            "align_self": null,
            "height": null,
            "min_height": null,
            "padding": null,
            "grid_auto_rows": null,
            "grid_gap": null,
            "max_width": null,
            "order": null,
            "_view_module_version": "1.2.0",
            "grid_template_areas": null,
            "object_position": null,
            "object_fit": null,
            "grid_auto_columns": null,
            "margin": null,
            "display": null,
            "left": null
          }
        },
        "e5d6890718d742b6b53f7ef403b30a87": {
          "model_module": "@jupyter-widgets/controls",
          "model_name": "DescriptionStyleModel",
          "state": {
            "_view_name": "StyleView",
            "_model_name": "DescriptionStyleModel",
            "description_width": "",
            "_view_module": "@jupyter-widgets/base",
            "_model_module_version": "1.5.0",
            "_view_count": null,
            "_view_module_version": "1.2.0",
            "_model_module": "@jupyter-widgets/controls"
          }
        },
        "8f69b82d95324bbc9189b1750f8eabcd": {
          "model_module": "@jupyter-widgets/base",
          "model_name": "LayoutModel",
          "state": {
            "_view_name": "LayoutView",
            "grid_template_rows": null,
            "right": null,
            "justify_content": null,
            "_view_module": "@jupyter-widgets/base",
            "overflow": null,
            "_model_module_version": "1.2.0",
            "_view_count": null,
            "flex_flow": null,
            "width": null,
            "min_width": null,
            "border": null,
            "align_items": null,
            "bottom": null,
            "_model_module": "@jupyter-widgets/base",
            "top": null,
            "grid_column": null,
            "overflow_y": null,
            "overflow_x": null,
            "grid_auto_flow": null,
            "grid_area": null,
            "grid_template_columns": null,
            "flex": null,
            "_model_name": "LayoutModel",
            "justify_items": null,
            "grid_row": null,
            "max_height": null,
            "align_content": null,
            "visibility": null,
            "align_self": null,
            "height": null,
            "min_height": null,
            "padding": null,
            "grid_auto_rows": null,
            "grid_gap": null,
            "max_width": null,
            "order": null,
            "_view_module_version": "1.2.0",
            "grid_template_areas": null,
            "object_position": null,
            "object_fit": null,
            "grid_auto_columns": null,
            "margin": null,
            "display": null,
            "left": null
          }
        },
        "41569ddd52e143d4b6c42cdabaa95773": {
          "model_module": "@jupyter-widgets/controls",
          "model_name": "HBoxModel",
          "state": {
            "_view_name": "HBoxView",
            "_dom_classes": [],
            "_model_name": "HBoxModel",
            "_view_module": "@jupyter-widgets/controls",
            "_model_module_version": "1.5.0",
            "_view_count": null,
            "_view_module_version": "1.5.0",
            "box_style": "",
            "layout": "IPY_MODEL_031049a1e2c9458b8bfdf781b232edc6",
            "_model_module": "@jupyter-widgets/controls",
            "children": [
              "IPY_MODEL_2ff16cd8096146eab5ce428d88336234",
              "IPY_MODEL_96359965e6764d4183bb307121425b28"
            ]
          }
        },
        "031049a1e2c9458b8bfdf781b232edc6": {
          "model_module": "@jupyter-widgets/base",
          "model_name": "LayoutModel",
          "state": {
            "_view_name": "LayoutView",
            "grid_template_rows": null,
            "right": null,
            "justify_content": null,
            "_view_module": "@jupyter-widgets/base",
            "overflow": null,
            "_model_module_version": "1.2.0",
            "_view_count": null,
            "flex_flow": null,
            "width": null,
            "min_width": null,
            "border": null,
            "align_items": null,
            "bottom": null,
            "_model_module": "@jupyter-widgets/base",
            "top": null,
            "grid_column": null,
            "overflow_y": null,
            "overflow_x": null,
            "grid_auto_flow": null,
            "grid_area": null,
            "grid_template_columns": null,
            "flex": null,
            "_model_name": "LayoutModel",
            "justify_items": null,
            "grid_row": null,
            "max_height": null,
            "align_content": null,
            "visibility": null,
            "align_self": null,
            "height": null,
            "min_height": null,
            "padding": null,
            "grid_auto_rows": null,
            "grid_gap": null,
            "max_width": null,
            "order": null,
            "_view_module_version": "1.2.0",
            "grid_template_areas": null,
            "object_position": null,
            "object_fit": null,
            "grid_auto_columns": null,
            "margin": null,
            "display": null,
            "left": null
          }
        },
        "2ff16cd8096146eab5ce428d88336234": {
          "model_module": "@jupyter-widgets/controls",
          "model_name": "IntProgressModel",
          "state": {
            "_view_name": "ProgressView",
            "style": "IPY_MODEL_ba113c7d7a134ddd8ca5d786a81bc5bc",
            "_dom_classes": [],
            "description": "",
            "_model_name": "IntProgressModel",
            "bar_style": "success",
            "max": 7551,
            "_view_module": "@jupyter-widgets/controls",
            "_model_module_version": "1.5.0",
            "value": 7551,
            "_view_count": null,
            "_view_module_version": "1.5.0",
            "orientation": "horizontal",
            "min": 0,
            "description_tooltip": null,
            "_model_module": "@jupyter-widgets/controls",
            "layout": "IPY_MODEL_8e95c72e55ee4f96aad9c80e5e6125db"
          }
        },
        "96359965e6764d4183bb307121425b28": {
          "model_module": "@jupyter-widgets/controls",
          "model_name": "HTMLModel",
          "state": {
            "_view_name": "HTMLView",
            "style": "IPY_MODEL_3ba2625e3ae54c3e81c454bad71dfe98",
            "_dom_classes": [],
            "description": "",
            "_model_name": "HTMLModel",
            "placeholder": "​",
            "_view_module": "@jupyter-widgets/controls",
            "_model_module_version": "1.5.0",
            "value": "100% 7551/7551 [00:02&lt;00:00, 2834.56it/s]",
            "_view_count": null,
            "_view_module_version": "1.5.0",
            "description_tooltip": null,
            "_model_module": "@jupyter-widgets/controls",
            "layout": "IPY_MODEL_2e571f62d0064f8da5f415b1b4965aa6"
          }
        },
        "ba113c7d7a134ddd8ca5d786a81bc5bc": {
          "model_module": "@jupyter-widgets/controls",
          "model_name": "ProgressStyleModel",
          "state": {
            "_view_name": "StyleView",
            "_model_name": "ProgressStyleModel",
            "description_width": "",
            "_view_module": "@jupyter-widgets/base",
            "_model_module_version": "1.5.0",
            "_view_count": null,
            "_view_module_version": "1.2.0",
            "bar_color": null,
            "_model_module": "@jupyter-widgets/controls"
          }
        },
        "8e95c72e55ee4f96aad9c80e5e6125db": {
          "model_module": "@jupyter-widgets/base",
          "model_name": "LayoutModel",
          "state": {
            "_view_name": "LayoutView",
            "grid_template_rows": null,
            "right": null,
            "justify_content": null,
            "_view_module": "@jupyter-widgets/base",
            "overflow": null,
            "_model_module_version": "1.2.0",
            "_view_count": null,
            "flex_flow": null,
            "width": null,
            "min_width": null,
            "border": null,
            "align_items": null,
            "bottom": null,
            "_model_module": "@jupyter-widgets/base",
            "top": null,
            "grid_column": null,
            "overflow_y": null,
            "overflow_x": null,
            "grid_auto_flow": null,
            "grid_area": null,
            "grid_template_columns": null,
            "flex": null,
            "_model_name": "LayoutModel",
            "justify_items": null,
            "grid_row": null,
            "max_height": null,
            "align_content": null,
            "visibility": null,
            "align_self": null,
            "height": null,
            "min_height": null,
            "padding": null,
            "grid_auto_rows": null,
            "grid_gap": null,
            "max_width": null,
            "order": null,
            "_view_module_version": "1.2.0",
            "grid_template_areas": null,
            "object_position": null,
            "object_fit": null,
            "grid_auto_columns": null,
            "margin": null,
            "display": null,
            "left": null
          }
        },
        "3ba2625e3ae54c3e81c454bad71dfe98": {
          "model_module": "@jupyter-widgets/controls",
          "model_name": "DescriptionStyleModel",
          "state": {
            "_view_name": "StyleView",
            "_model_name": "DescriptionStyleModel",
            "description_width": "",
            "_view_module": "@jupyter-widgets/base",
            "_model_module_version": "1.5.0",
            "_view_count": null,
            "_view_module_version": "1.2.0",
            "_model_module": "@jupyter-widgets/controls"
          }
        },
        "2e571f62d0064f8da5f415b1b4965aa6": {
          "model_module": "@jupyter-widgets/base",
          "model_name": "LayoutModel",
          "state": {
            "_view_name": "LayoutView",
            "grid_template_rows": null,
            "right": null,
            "justify_content": null,
            "_view_module": "@jupyter-widgets/base",
            "overflow": null,
            "_model_module_version": "1.2.0",
            "_view_count": null,
            "flex_flow": null,
            "width": null,
            "min_width": null,
            "border": null,
            "align_items": null,
            "bottom": null,
            "_model_module": "@jupyter-widgets/base",
            "top": null,
            "grid_column": null,
            "overflow_y": null,
            "overflow_x": null,
            "grid_auto_flow": null,
            "grid_area": null,
            "grid_template_columns": null,
            "flex": null,
            "_model_name": "LayoutModel",
            "justify_items": null,
            "grid_row": null,
            "max_height": null,
            "align_content": null,
            "visibility": null,
            "align_self": null,
            "height": null,
            "min_height": null,
            "padding": null,
            "grid_auto_rows": null,
            "grid_gap": null,
            "max_width": null,
            "order": null,
            "_view_module_version": "1.2.0",
            "grid_template_areas": null,
            "object_position": null,
            "object_fit": null,
            "grid_auto_columns": null,
            "margin": null,
            "display": null,
            "left": null
          }
        },
        "db5a012b7dd848b691f3e90b49c06945": {
          "model_module": "@jupyter-widgets/controls",
          "model_name": "HBoxModel",
          "state": {
            "_view_name": "HBoxView",
            "_dom_classes": [],
            "_model_name": "HBoxModel",
            "_view_module": "@jupyter-widgets/controls",
            "_model_module_version": "1.5.0",
            "_view_count": null,
            "_view_module_version": "1.5.0",
            "box_style": "",
            "layout": "IPY_MODEL_281a90dcc3344c0aa779d7ebcd9fafb4",
            "_model_module": "@jupyter-widgets/controls",
            "children": [
              "IPY_MODEL_979c134f2fd1449ab5cb1c7a2267c968",
              "IPY_MODEL_fd9e39313af54c808341f0458b375981"
            ]
          }
        },
        "281a90dcc3344c0aa779d7ebcd9fafb4": {
          "model_module": "@jupyter-widgets/base",
          "model_name": "LayoutModel",
          "state": {
            "_view_name": "LayoutView",
            "grid_template_rows": null,
            "right": null,
            "justify_content": null,
            "_view_module": "@jupyter-widgets/base",
            "overflow": null,
            "_model_module_version": "1.2.0",
            "_view_count": null,
            "flex_flow": null,
            "width": null,
            "min_width": null,
            "border": null,
            "align_items": null,
            "bottom": null,
            "_model_module": "@jupyter-widgets/base",
            "top": null,
            "grid_column": null,
            "overflow_y": null,
            "overflow_x": null,
            "grid_auto_flow": null,
            "grid_area": null,
            "grid_template_columns": null,
            "flex": null,
            "_model_name": "LayoutModel",
            "justify_items": null,
            "grid_row": null,
            "max_height": null,
            "align_content": null,
            "visibility": null,
            "align_self": null,
            "height": null,
            "min_height": null,
            "padding": null,
            "grid_auto_rows": null,
            "grid_gap": null,
            "max_width": null,
            "order": null,
            "_view_module_version": "1.2.0",
            "grid_template_areas": null,
            "object_position": null,
            "object_fit": null,
            "grid_auto_columns": null,
            "margin": null,
            "display": null,
            "left": null
          }
        },
        "979c134f2fd1449ab5cb1c7a2267c968": {
          "model_module": "@jupyter-widgets/controls",
          "model_name": "IntProgressModel",
          "state": {
            "_view_name": "ProgressView",
            "style": "IPY_MODEL_8ab0f3ef36aa4479bf74992b465cbb96",
            "_dom_classes": [],
            "description": "",
            "_model_name": "IntProgressModel",
            "bar_style": "success",
            "max": 7551,
            "_view_module": "@jupyter-widgets/controls",
            "_model_module_version": "1.5.0",
            "value": 7551,
            "_view_count": null,
            "_view_module_version": "1.5.0",
            "orientation": "horizontal",
            "min": 0,
            "description_tooltip": null,
            "_model_module": "@jupyter-widgets/controls",
            "layout": "IPY_MODEL_5c3e28ad982a4772bd927c42944b91a8"
          }
        },
        "fd9e39313af54c808341f0458b375981": {
          "model_module": "@jupyter-widgets/controls",
          "model_name": "HTMLModel",
          "state": {
            "_view_name": "HTMLView",
            "style": "IPY_MODEL_0506ed20d20b40c1974af401af91901f",
            "_dom_classes": [],
            "description": "",
            "_model_name": "HTMLModel",
            "placeholder": "​",
            "_view_module": "@jupyter-widgets/controls",
            "_model_module_version": "1.5.0",
            "value": "100% 7551/7551 [01:59&lt;00:00, 63.34it/s]",
            "_view_count": null,
            "_view_module_version": "1.5.0",
            "description_tooltip": null,
            "_model_module": "@jupyter-widgets/controls",
            "layout": "IPY_MODEL_aa7beb517e6d417e9ef016daa705ac37"
          }
        },
        "8ab0f3ef36aa4479bf74992b465cbb96": {
          "model_module": "@jupyter-widgets/controls",
          "model_name": "ProgressStyleModel",
          "state": {
            "_view_name": "StyleView",
            "_model_name": "ProgressStyleModel",
            "description_width": "",
            "_view_module": "@jupyter-widgets/base",
            "_model_module_version": "1.5.0",
            "_view_count": null,
            "_view_module_version": "1.2.0",
            "bar_color": null,
            "_model_module": "@jupyter-widgets/controls"
          }
        },
        "5c3e28ad982a4772bd927c42944b91a8": {
          "model_module": "@jupyter-widgets/base",
          "model_name": "LayoutModel",
          "state": {
            "_view_name": "LayoutView",
            "grid_template_rows": null,
            "right": null,
            "justify_content": null,
            "_view_module": "@jupyter-widgets/base",
            "overflow": null,
            "_model_module_version": "1.2.0",
            "_view_count": null,
            "flex_flow": null,
            "width": null,
            "min_width": null,
            "border": null,
            "align_items": null,
            "bottom": null,
            "_model_module": "@jupyter-widgets/base",
            "top": null,
            "grid_column": null,
            "overflow_y": null,
            "overflow_x": null,
            "grid_auto_flow": null,
            "grid_area": null,
            "grid_template_columns": null,
            "flex": null,
            "_model_name": "LayoutModel",
            "justify_items": null,
            "grid_row": null,
            "max_height": null,
            "align_content": null,
            "visibility": null,
            "align_self": null,
            "height": null,
            "min_height": null,
            "padding": null,
            "grid_auto_rows": null,
            "grid_gap": null,
            "max_width": null,
            "order": null,
            "_view_module_version": "1.2.0",
            "grid_template_areas": null,
            "object_position": null,
            "object_fit": null,
            "grid_auto_columns": null,
            "margin": null,
            "display": null,
            "left": null
          }
        },
        "0506ed20d20b40c1974af401af91901f": {
          "model_module": "@jupyter-widgets/controls",
          "model_name": "DescriptionStyleModel",
          "state": {
            "_view_name": "StyleView",
            "_model_name": "DescriptionStyleModel",
            "description_width": "",
            "_view_module": "@jupyter-widgets/base",
            "_model_module_version": "1.5.0",
            "_view_count": null,
            "_view_module_version": "1.2.0",
            "_model_module": "@jupyter-widgets/controls"
          }
        },
        "aa7beb517e6d417e9ef016daa705ac37": {
          "model_module": "@jupyter-widgets/base",
          "model_name": "LayoutModel",
          "state": {
            "_view_name": "LayoutView",
            "grid_template_rows": null,
            "right": null,
            "justify_content": null,
            "_view_module": "@jupyter-widgets/base",
            "overflow": null,
            "_model_module_version": "1.2.0",
            "_view_count": null,
            "flex_flow": null,
            "width": null,
            "min_width": null,
            "border": null,
            "align_items": null,
            "bottom": null,
            "_model_module": "@jupyter-widgets/base",
            "top": null,
            "grid_column": null,
            "overflow_y": null,
            "overflow_x": null,
            "grid_auto_flow": null,
            "grid_area": null,
            "grid_template_columns": null,
            "flex": null,
            "_model_name": "LayoutModel",
            "justify_items": null,
            "grid_row": null,
            "max_height": null,
            "align_content": null,
            "visibility": null,
            "align_self": null,
            "height": null,
            "min_height": null,
            "padding": null,
            "grid_auto_rows": null,
            "grid_gap": null,
            "max_width": null,
            "order": null,
            "_view_module_version": "1.2.0",
            "grid_template_areas": null,
            "object_position": null,
            "object_fit": null,
            "grid_auto_columns": null,
            "margin": null,
            "display": null,
            "left": null
          }
        }
      }
    }
  },
  "cells": [
    {
      "cell_type": "markdown",
      "metadata": {
        "id": "view-in-github",
        "colab_type": "text"
      },
      "source": [
        "<a href=\"https://colab.research.google.com/github/GrigoryBartosh/hse08_ip/blob/master/hw3_neural.ipynb\" target=\"_parent\"><img src=\"https://colab.research.google.com/assets/colab-badge.svg\" alt=\"Open In Colab\"/></a>"
      ]
    },
    {
      "cell_type": "code",
      "metadata": {
        "id": "-zSgN3JaUqtt",
        "colab_type": "code",
        "outputId": "3de286b8-0658-4270-d9aa-00986f81c5fe",
        "colab": {
          "base_uri": "https://localhost:8080/",
          "height": 127
        }
      },
      "source": [
        "from google.colab import drive\n",
        "drive.mount('/content/drive')"
      ],
      "execution_count": 1,
      "outputs": [
        {
          "output_type": "stream",
          "text": [
            "Go to this URL in a browser: https://accounts.google.com/o/oauth2/auth?client_id=947318989803-6bn6qk8qdgf4n4g3pfee6491hc0brc4i.apps.googleusercontent.com&redirect_uri=urn%3aietf%3awg%3aoauth%3a2.0%3aoob&response_type=code&scope=email%20https%3a%2f%2fwww.googleapis.com%2fauth%2fdocs.test%20https%3a%2f%2fwww.googleapis.com%2fauth%2fdrive%20https%3a%2f%2fwww.googleapis.com%2fauth%2fdrive.photos.readonly%20https%3a%2f%2fwww.googleapis.com%2fauth%2fpeopleapi.readonly\n",
            "\n",
            "Enter your authorization code:\n",
            "··········\n",
            "Mounted at /content/drive\n"
          ],
          "name": "stdout"
        }
      ]
    },
    {
      "cell_type": "code",
      "metadata": {
        "id": "Xeq-J61DMoYf",
        "colab_type": "code",
        "outputId": "cfa8fbdf-0963-4a5a-b978-2c6e7f7b6fee",
        "colab": {
          "base_uri": "https://localhost:8080/",
          "height": 35
        }
      },
      "source": [
        "cd 'drive/My Drive/ip_hw_3'"
      ],
      "execution_count": 2,
      "outputs": [
        {
          "output_type": "stream",
          "text": [
            "/content/drive/My Drive/ip_hw_3\n"
          ],
          "name": "stdout"
        }
      ]
    },
    {
      "cell_type": "code",
      "metadata": {
        "id": "ybArQ57lhUTA",
        "colab_type": "code",
        "colab": {
          "base_uri": "https://localhost:8080/",
          "height": 379
        },
        "outputId": "c6de03ab-d571-4ba0-f455-45cbc9095891"
      },
      "source": [
        "! pip install wandb >> /dev/null\n",
        "! pip install --upgrade catboost"
      ],
      "execution_count": 181,
      "outputs": [
        {
          "output_type": "stream",
          "text": [
            "Collecting catboost\n",
            "\u001b[?25l  Downloading https://files.pythonhosted.org/packages/ca/ae/aaff63662f7f5d2af7ec8d61a6f39e78ada9348e5df4f43e665ecc4bea10/catboost-0.21-cp36-none-manylinux1_x86_64.whl (64.0MB)\n",
            "\u001b[K     |████████████████████████████████| 64.0MB 48kB/s \n",
            "\u001b[?25hRequirement already satisfied, skipping upgrade: graphviz in /usr/local/lib/python3.6/dist-packages (from catboost) (0.10.1)\n",
            "Requirement already satisfied, skipping upgrade: pandas>=0.24.0 in /usr/local/lib/python3.6/dist-packages (from catboost) (0.25.3)\n",
            "Requirement already satisfied, skipping upgrade: plotly in /usr/local/lib/python3.6/dist-packages (from catboost) (4.4.1)\n",
            "Requirement already satisfied, skipping upgrade: matplotlib in /usr/local/lib/python3.6/dist-packages (from catboost) (3.1.3)\n",
            "Requirement already satisfied, skipping upgrade: six in /usr/local/lib/python3.6/dist-packages (from catboost) (1.12.0)\n",
            "Requirement already satisfied, skipping upgrade: numpy>=1.16.0 in /usr/local/lib/python3.6/dist-packages (from catboost) (1.17.5)\n",
            "Requirement already satisfied, skipping upgrade: scipy in /usr/local/lib/python3.6/dist-packages (from catboost) (1.4.1)\n",
            "Requirement already satisfied, skipping upgrade: python-dateutil>=2.6.1 in /usr/local/lib/python3.6/dist-packages (from pandas>=0.24.0->catboost) (2.6.1)\n",
            "Requirement already satisfied, skipping upgrade: pytz>=2017.2 in /usr/local/lib/python3.6/dist-packages (from pandas>=0.24.0->catboost) (2018.9)\n",
            "Requirement already satisfied, skipping upgrade: retrying>=1.3.3 in /usr/local/lib/python3.6/dist-packages (from plotly->catboost) (1.3.3)\n",
            "Requirement already satisfied, skipping upgrade: kiwisolver>=1.0.1 in /usr/local/lib/python3.6/dist-packages (from matplotlib->catboost) (1.1.0)\n",
            "Requirement already satisfied, skipping upgrade: pyparsing!=2.0.4,!=2.1.2,!=2.1.6,>=2.0.1 in /usr/local/lib/python3.6/dist-packages (from matplotlib->catboost) (2.4.6)\n",
            "Requirement already satisfied, skipping upgrade: cycler>=0.10 in /usr/local/lib/python3.6/dist-packages (from matplotlib->catboost) (0.10.0)\n",
            "Requirement already satisfied, skipping upgrade: setuptools in /usr/local/lib/python3.6/dist-packages (from kiwisolver>=1.0.1->matplotlib->catboost) (45.1.0)\n",
            "Installing collected packages: catboost\n",
            "Successfully installed catboost-0.21\n"
          ],
          "name": "stdout"
        }
      ]
    },
    {
      "cell_type": "code",
      "metadata": {
        "colab_type": "code",
        "id": "qRxFFBmUmhr1",
        "colab": {}
      },
      "source": [
        "import os\n",
        "import copy\n",
        "import zipfile\n",
        "import pandas as pd\n",
        "\n",
        "import numpy as np\n",
        "from sklearn.model_selection import train_test_split\n",
        "\n",
        "from catboost import CatBoostClassifier\n",
        "\n",
        "import torch\n",
        "import torch.nn as nn\n",
        "import torch.optim as optim\n",
        "import torch.utils.data as data\n",
        "import torch.nn.functional as F\n",
        "from torchvision import models\n",
        "\n",
        "from PIL import Image\n",
        "\n",
        "import wandb\n",
        "\n",
        "from tqdm.auto import tqdm, trange\n",
        "import matplotlib.pyplot as plt\n",
        "\n",
        "PATH_DATA = 'tl-signs-hse-itmo-2020-winter.zip'\n",
        "\n",
        "device = torch.device('cuda:0' if torch.cuda.is_available() else 'cpu')\n",
        "\n",
        "BATCH_SIZE = 256\n",
        "LR = 0.001\n",
        "W_L2 = 0\n",
        "EPOCHS = 35"
      ],
      "execution_count": 0,
      "outputs": []
    },
    {
      "cell_type": "code",
      "metadata": {
        "colab_type": "code",
        "id": "7jId6n6smhr5",
        "outputId": "612b51b4-6daf-4467-ac16-9f2ee9ac6d1e",
        "colab": {
          "base_uri": "https://localhost:8080/",
          "height": 67,
          "referenced_widgets": [
            "9fd98705ea11447f94c0d5ecab78a0d8",
            "65fb7ac32d61485e8d22666e15abab69",
            "df72314fb8724f92bc4030c9e25b7ba9",
            "12c4bc63e3ff4bbd97e5a21dbc5809e1",
            "febb29bd22ae4337bc1912bb7ababfca",
            "c186a934ace3446c973ee07a35e8e3ec",
            "a5086d2d05d545ca833ed1e9526cc948",
            "5577528e6dd04a9586d30d12347814b1"
          ]
        }
      },
      "source": [
        "xs, ys = [], []\n",
        "with zipfile.ZipFile(PATH_DATA, 'r') as zip_file:\n",
        "    with zip_file.open('train.csv') as file:\n",
        "        train_data = pd.read_csv(file)\n",
        "\n",
        "    for _, x in tqdm(train_data.iterrows()):\n",
        "        name, lable = x['filename'], x['class_number']\n",
        "        with zip_file.open(os.path.join('train', 'train', name)) as img_file:\n",
        "            image = Image.open(img_file).convert('RGB')\n",
        "        xs += [image]\n",
        "        ys += [lable]\n",
        "\n",
        "num_classes = max(ys) + 1\n",
        "\n",
        "x_train, x_val, y_train, y_val = train_test_split(xs, ys, test_size=0.1)"
      ],
      "execution_count": 5,
      "outputs": [
        {
          "output_type": "display_data",
          "data": {
            "application/vnd.jupyter.widget-view+json": {
              "model_id": "9fd98705ea11447f94c0d5ecab78a0d8",
              "version_minor": 0,
              "version_major": 2
            },
            "text/plain": [
              "HBox(children=(IntProgress(value=1, bar_style='info', max=1), HTML(value='')))"
            ]
          },
          "metadata": {
            "tags": []
          }
        },
        {
          "output_type": "stream",
          "text": [
            "\n"
          ],
          "name": "stdout"
        }
      ]
    },
    {
      "cell_type": "code",
      "metadata": {
        "id": "3T4IFi7qkxxF",
        "colab_type": "code",
        "colab": {}
      },
      "source": [
        "class SiamDataset(data.Dataset):\n",
        "    def __init__(self, xs, ys):\n",
        "        self.xs = xs\n",
        "        self.ys = ys\n",
        "\n",
        "        num_classes = max(self.ys) + 1\n",
        "        self.class_indexes = [[] for _ in range(num_classes)]\n",
        "        for i, y in enumerate(self.ys):\n",
        "            self.class_indexes[y] += [i]\n",
        "\n",
        "    def __getitem__(self, index):\n",
        "        x1 = self.xs[index]\n",
        "        y1 = self.ys[index]\n",
        "\n",
        "        if np.random.randint(2) == 0:\n",
        "            index2 = np.random.randint(len(self.xs))\n",
        "        else:\n",
        "            index2 = np.random.choice(self.class_indexes[y1])\n",
        "\n",
        "        x2 = self.xs[index2]\n",
        "        y2 = self.ys[index2]\n",
        "\n",
        "        x1 = torch.FloatTensor(np.array(x1))\n",
        "        x2 = torch.FloatTensor(np.array(x2))\n",
        "        y = torch.FloatTensor([0] if y1 == y2 else [1])\n",
        "\n",
        "        return x1, x2, y\n",
        "\n",
        "    def __len__(self):\n",
        "        return len(self.xs)"
      ],
      "execution_count": 0,
      "outputs": []
    },
    {
      "cell_type": "code",
      "metadata": {
        "colab_type": "code",
        "id": "4VFGYLJFmhr8",
        "colab": {}
      },
      "source": [
        "def collate_xs(xs):\n",
        "    xs = torch.stack(xs, axis=0)\n",
        "    xs = xs * 2 / 255 - 1\n",
        "    xs = xs.permute(0, 3, 1, 2)\n",
        "\n",
        "    return xs\n",
        "\n",
        "def collate_ys(ys):\n",
        "    ys = torch.cat(ys)\n",
        "    return ys\n",
        "\n",
        "def collate_fn(data):\n",
        "    xs1, xs2, ys = zip(*data)\n",
        "    \n",
        "    xs1 = collate_xs(xs1)\n",
        "    xs2 = collate_xs(xs2)\n",
        "    ys = collate_ys(ys)\n",
        "\n",
        "    return xs1, xs2, ys\n",
        "\n",
        "train_dataset = SiamDataset(x_train, y_train)\n",
        "val_dataset = SiamDataset(x_val, y_val)\n",
        "\n",
        "train_data_loader = data.DataLoader(\n",
        "    dataset=train_dataset,\n",
        "    batch_size=BATCH_SIZE,\n",
        "    shuffle=True,\n",
        "    num_workers=8,\n",
        "    collate_fn=collate_fn\n",
        ")\n",
        "val_data_loader = data.DataLoader(\n",
        "    dataset=val_dataset,\n",
        "    batch_size=BATCH_SIZE,\n",
        "    shuffle=False,\n",
        "    num_workers=8,\n",
        "    collate_fn=collate_fn\n",
        ")"
      ],
      "execution_count": 0,
      "outputs": []
    },
    {
      "cell_type": "code",
      "metadata": {
        "colab_type": "code",
        "id": "zAWlIByBmhsB",
        "colab": {}
      },
      "source": [
        "def conv3x3(in_planes, out_planes, stride=1, padding=1):\n",
        "    return nn.Conv2d(in_planes, out_planes, 3, \n",
        "                     stride, padding, bias=False)\n",
        "    \n",
        "\n",
        "def conv1x1(in_planes, out_planes, stride=1):\n",
        "    return nn.Conv2d(in_planes, out_planes, 1, \n",
        "                     stride, padding=0, bias=False)\n",
        "\n",
        "\n",
        "class SimpleBlock(nn.Module):\n",
        "    def __init__(self, in_planes, out_planes=None, stride=1):\n",
        "        super(SimpleBlock, self).__init__()\n",
        "\n",
        "        if out_planes is None:\n",
        "            out_planes = in_planes\n",
        "\n",
        "        self.activ = nn.ReLU()\n",
        "\n",
        "        self.conv1 = conv3x3(in_planes, out_planes, stride)\n",
        "        self.ln1 = nn.BatchNorm2d(out_planes)\n",
        "\n",
        "    def forward(self, x):\n",
        "        out = self.conv1(x)\n",
        "        out = self.ln1(out)\n",
        "        out = self.activ(out)\n",
        "\n",
        "        return out\n",
        "\n",
        "\n",
        "class ResBasicBlock(nn.Module):\n",
        "    def __init__(self, in_planes, out_planes=None, stride=1):\n",
        "        super(ResBasicBlock, self).__init__()\n",
        "\n",
        "        planes = in_planes\n",
        "\n",
        "        if out_planes is None:\n",
        "            out_planes = planes\n",
        "\n",
        "        self.residual_conv = None\n",
        "        if stride != 1 or in_planes != out_planes:\n",
        "            self.residual_conv = conv1x1(in_planes, out_planes, stride)\n",
        "            self.residual_ln = nn.BatchNorm2d(out_planes)\n",
        "\n",
        "        self.activ = nn.ReLU()\n",
        "\n",
        "        self.conv1 = conv3x3(in_planes, planes, stride)\n",
        "        self.ln1 = nn.BatchNorm2d(planes)\n",
        "        self.conv2 = conv3x3(planes, out_planes)\n",
        "        self.ln2 = nn.BatchNorm2d(out_planes)\n",
        "\n",
        "    def forward(self, x):\n",
        "        identity = x\n",
        "\n",
        "        out = self.conv1(x)\n",
        "        out = self.ln1(out)\n",
        "        out = self.activ(out)\n",
        "\n",
        "        out = self.conv2(out)\n",
        "        out = self.ln2(out)\n",
        "\n",
        "        if self.residual_conv is not None:\n",
        "            identity = self.residual_conv(identity)\n",
        "            identity = self.residual_ln(identity)\n",
        "\n",
        "        out += identity\n",
        "        out = self.activ(out)\n",
        "\n",
        "        return out\n",
        "\n",
        "\n",
        "class FeatureExtractor(nn.Module):\n",
        "    def __init__(self):\n",
        "        super(FeatureExtractor, self).__init__()\n",
        "\n",
        "        in_dim = 8\n",
        "        self.embed_dim = in_dim * 2 ** 4\n",
        "        #self.embed_dim = 32\n",
        "\n",
        "        self.model = [SimpleBlock(3, in_dim, 2)]\n",
        "        for _ in range(3):\n",
        "            self.model += [SimpleBlock(in_dim, in_dim * 2, 2)]\n",
        "            in_dim = in_dim * 2\n",
        "        self.model += [conv3(in_dim, self.embed_dim, padding=0)]\n",
        "\n",
        "        self.model = nn.Sequential(*self.model)\n",
        "                 \n",
        "    def forward(self, x):\n",
        "        x = self.model(x)\n",
        "        x = x.squeeze()\n",
        "        return x\n",
        "\n",
        "\n",
        "class Model(nn.Module):\n",
        "    def __init__(self, num_classes):\n",
        "        super(Model, self).__init__()\n",
        "                 \n",
        "        self.model = FeatureExtractor()\n",
        "        \n",
        "        self.l2 = nn.PairwiseDistance(p=2)\n",
        "        self.liner = nn.Linear(1, 1)\n",
        "        self.sigmoid = nn.Sigmoid()\n",
        "                 \n",
        "    def forward(self, x1, x2):\n",
        "        x1 = self.model(x1)\n",
        "        x2 = self.model(x2)\n",
        "        x = torch.log(self.l2(x1, x2) ** 2)\n",
        "        x = self.liner(x[:, None]).squeeze()\n",
        "        x = self.sigmoid(x)\n",
        "        return x"
      ],
      "execution_count": 0,
      "outputs": []
    },
    {
      "cell_type": "code",
      "metadata": {
        "colab_type": "code",
        "id": "wJTRcl1cmhsP",
        "colab": {}
      },
      "source": [
        "def train(model, criterion, optimizer, scheduler, epochs):\n",
        "    wandb.init(project=\"hse08_ip_hw_3\")\n",
        "\n",
        "    best_model = copy.deepcopy(model)\n",
        "    best_loss = 10 ** 10\n",
        "    for _ in trange(epochs):\n",
        "        for xs1, xs2, ys in train_data_loader:\n",
        "            xs1 = xs1.to(device)\n",
        "            xs2 = xs2.to(device)\n",
        "            ys = ys.to(device)\n",
        "            \n",
        "            optimizer.zero_grad()\n",
        "\n",
        "            outputs = model(xs1, xs2)\n",
        "            loss = criterion(outputs, ys)\n",
        "\n",
        "            wandb.log({'Train loss': loss.item()})\n",
        "\n",
        "            loss.backward()\n",
        "            optimizer.step()\n",
        "\n",
        "        losses = []\n",
        "        model.eval()\n",
        "        with torch.no_grad():\n",
        "            for xs1, xs2, ys in val_data_loader:\n",
        "                xs1 = xs1.to(device)\n",
        "                xs2 = xs2.to(device)\n",
        "                ys = ys.to(device)\n",
        "\n",
        "                outputs = model(xs1, xs2)\n",
        "                loss = criterion(outputs, ys)\n",
        "\n",
        "                losses += [loss.item()]\n",
        "            \n",
        "        model.train()\n",
        "\n",
        "        loss = np.array(losses).mean()\n",
        "        wandb.log({'Val loss': loss})\n",
        "        \n",
        "        if best_loss < loss:\n",
        "            best_loss = loss\n",
        "            best_model = copy.deepcopy(model)\n",
        "        \n",
        "        if scheduler:\n",
        "            scheduler.step()\n",
        "\n",
        "    return best_model"
      ],
      "execution_count": 0,
      "outputs": []
    },
    {
      "cell_type": "code",
      "metadata": {
        "id": "4dPpYAgxC_Qw",
        "colab_type": "code",
        "colab": {}
      },
      "source": [
        "def get_centroids(model, xs, ys):\n",
        "    centroids_sum = np.zeros((max(ys) + 1, model.model.embed_dim))\n",
        "    cnts_sum = np.zeros((max(ys) + 1))\n",
        "\n",
        "    with torch.no_grad():\n",
        "        i = 0\n",
        "        while i < len(xs):\n",
        "            ni = min(i + BATCH_SIZE, len(xs))\n",
        "            batch_xs, batch_ys = xs[i:ni], ys[i:ni]\n",
        "            i = ni\n",
        "\n",
        "            batch_xs = [torch.FloatTensor(np.array(x)) for x in batch_xs]\n",
        "            batch_xs = collate_xs(batch_xs)\n",
        "            batch_xs = batch_xs.to(device)\n",
        "\n",
        "            features = model.model(batch_xs).cpu().numpy()\n",
        "            for f, y in zip(features, batch_ys):\n",
        "                centroids_sum[y] += f\n",
        "                cnts_sum[y] += 1\n",
        "\n",
        "    cnts_sum = np.repeat(np.expand_dims(cnts_sum, axis=1), \n",
        "                         model.model.embed_dim, axis=1)\n",
        "    return centroids_sum / cnts_sum"
      ],
      "execution_count": 0,
      "outputs": []
    },
    {
      "cell_type": "code",
      "metadata": {
        "id": "y90DFJVqGbAp",
        "colab_type": "code",
        "colab": {}
      },
      "source": [
        "def get_scores(model, centroids, x):\n",
        "    scores_sum = [0] * (max(ys) + 1)\n",
        "    cnts_sum = [0] * (max(ys) + 1)\n",
        "\n",
        "    with torch.no_grad():\n",
        "        x = [torch.FloatTensor(np.array(x))]\n",
        "        x = collate_xs(x)\n",
        "        x = x.to(device)\n",
        "\n",
        "        x = model.model(x).cpu().numpy()\n",
        "\n",
        "    x = np.repeat(np.expand_dims(x, axis=0), len(centroids), axis=0)\n",
        "    scores = ((centroids - x) ** 2).sum(axis=1)\n",
        "\n",
        "    return scores"
      ],
      "execution_count": 0,
      "outputs": []
    },
    {
      "cell_type": "code",
      "metadata": {
        "id": "nljJt5Yp5eo1",
        "colab_type": "code",
        "colab": {}
      },
      "source": [
        "def get_nn_accuracy(scores, ys):\n",
        "    ys_predicted = scores.argmin(axis=1)\n",
        "    return (ys_predicted == ys).sum() / len(ys)"
      ],
      "execution_count": 0,
      "outputs": []
    },
    {
      "cell_type": "code",
      "metadata": {
        "id": "V0ELPvXspRvh",
        "colab_type": "code",
        "colab": {}
      },
      "source": [
        "def get_cat_accuracy(cat_model, scores, ys):\n",
        "    ys_predicted = cat_model.predict(scores).reshape(-1)\n",
        "    return (ys_predicted == ys).sum() / len(ys)"
      ],
      "execution_count": 0,
      "outputs": []
    },
    {
      "cell_type": "code",
      "metadata": {
        "colab_type": "code",
        "id": "gkfQcIe8mhsV",
        "outputId": "0f88b8a1-1447-458a-e4aa-b3a8f20fd300",
        "colab": {
          "base_uri": "https://localhost:8080/",
          "height": 424,
          "referenced_widgets": [
            "802cb7b926d5489598bccfbd61a567b9",
            "7d4960c1d6064cd7a3acecb4ae64428e",
            "051b4745781441a78b708f6df26b398b",
            "7f7014cdf5b0429d9528880f39cd0dfb",
            "e7a8f5ec288d4521af083771c54a94e7",
            "8156f715490e4ad9b421ba2ff591a39e",
            "58ceba13ff3948458eb4fdf2696a32cb",
            "146f3df45ec54205a4499470d7a42839"
          ]
        }
      },
      "source": [
        "nn_model = Model(num_classes=num_classes)\n",
        "nn_model.to(device)\n",
        "\n",
        "criterion = nn.BCELoss()\n",
        "\n",
        "optimizer = optim.Adam(filter(lambda p: p.requires_grad, nn_model.parameters()), \n",
        "                       LR, weight_decay=W_L2)\n",
        "\n",
        "nn_model.train()\n",
        "nn_model = train(nn_model, criterion, optimizer, None, EPOCHS)"
      ],
      "execution_count": 276,
      "outputs": [
        {
          "output_type": "display_data",
          "data": {
            "text/html": [
              "\n",
              "                Logging results to <a href=\"https://wandb.com\" target=\"_blank\">Weights & Biases</a> <a href=\"https://docs.wandb.com/integrations/jupyter.html\" target=\"_blank\">(Documentation)</a>.<br/>\n",
              "                Project page: <a href=\"https://app.wandb.ai/gbarto/hse08_ip_hw_3\" target=\"_blank\">https://app.wandb.ai/gbarto/hse08_ip_hw_3</a><br/>\n",
              "                Run page: <a href=\"https://app.wandb.ai/gbarto/hse08_ip_hw_3/runs/201ub4ws\" target=\"_blank\">https://app.wandb.ai/gbarto/hse08_ip_hw_3/runs/201ub4ws</a><br/>\n",
              "            "
            ],
            "text/plain": [
              "<IPython.core.display.HTML object>"
            ]
          },
          "metadata": {
            "tags": []
          }
        },
        {
          "output_type": "display_data",
          "data": {
            "application/vnd.jupyter.widget-view+json": {
              "model_id": "802cb7b926d5489598bccfbd61a567b9",
              "version_minor": 0,
              "version_major": 2
            },
            "text/plain": [
              "HBox(children=(IntProgress(value=0, max=105), HTML(value='')))"
            ]
          },
          "metadata": {
            "tags": []
          }
        },
        {
          "output_type": "stream",
          "text": [
            "Exception in thread Thread-434:\n",
            "Traceback (most recent call last):\n",
            "  File \"/usr/lib/python3.6/threading.py\", line 916, in _bootstrap_inner\n",
            "    self.run()\n",
            "  File \"/usr/local/lib/python3.6/dist-packages/watchdog/observers/api.py\", line 196, in run\n",
            "    self.dispatch_events(self.event_queue, self.timeout)\n",
            "  File \"/usr/local/lib/python3.6/dist-packages/watchdog/observers/api.py\", line 369, in dispatch_events\n",
            "    handler.dispatch(event)\n",
            "  File \"/usr/local/lib/python3.6/dist-packages/watchdog/events.py\", line 452, in dispatch\n",
            "    super(PatternMatchingEventHandler, self).dispatch(event)\n",
            "  File \"/usr/local/lib/python3.6/dist-packages/watchdog/events.py\", line 336, in dispatch\n",
            "    }[event.event_type](event)\n",
            "  File \"/usr/local/lib/python3.6/dist-packages/wandb/run_manager.py\", line 693, in _on_file_modified\n",
            "    self._get_file_event_handler(event.src_path, save_name).on_modified()\n",
            "  File \"/usr/local/lib/python3.6/dist-packages/wandb/run_manager.py\", line 298, in on_modified\n",
            "    self._api.get_file_stream_api().push(self.save_name, open(self.file_path).read())\n",
            "PermissionError: [Errno 1] Operation not permitted: '/content/drive/My Drive/ip_hw_3/wandb/run-20200223_162331-201ub4ws/wandb-summary.json'\n",
            "\n"
          ],
          "name": "stderr"
        }
      ]
    },
    {
      "cell_type": "code",
      "metadata": {
        "id": "5Omr2hJm6orH",
        "colab_type": "code",
        "colab": {
          "base_uri": "https://localhost:8080/",
          "height": 117,
          "referenced_widgets": [
            "1d351438091c4f22855c9d9d97a87704",
            "2c41ed8c8aa34e9e9f6bb75c1eaed06d",
            "2fcdf5e7dfd04e928e7c52c0b86671f1",
            "67f785dc100a4ebaa7f3c2ca3109e9c4",
            "e9cba2f2bf5f4949a528aed631f5cef1",
            "6192cd839ffb49babe46821922d0b3dc",
            "08e8a2291b0f4e398fd859581553ffad",
            "8b773507621341da932783cb4b450486",
            "72425c55b0c74c3581b5ad49ba53cbd2",
            "551c9f2e2bec47b78de9147b42bc5206",
            "ac0356d34afb423ea10dfc4d7b72bc7f",
            "7cdabdbb0bd945fc8c3b9fc5eb7c1ffc",
            "334cd5ba7e7b458fbe6d84e43d5ed024",
            "06fbf2fc05264c8098e1afe8c1480a70",
            "e5d6890718d742b6b53f7ef403b30a87",
            "8f69b82d95324bbc9189b1750f8eabcd"
          ]
        },
        "outputId": "5b394c71-1303-4547-fe36-26a81c2c17a2"
      },
      "source": [
        "nn_model.eval()\n",
        "\n",
        "centroids = get_centroids(nn_model, x_train, y_train)\n",
        "\n",
        "train_scores = [get_scores(nn_model, centroids, x) for x in tqdm(x_train)]\n",
        "val_scores = [get_scores(nn_model, centroids, x) for x in tqdm(x_val)]\n",
        "train_scores = np.array(train_scores)\n",
        "val_scores = np.array(val_scores)\n",
        "\n",
        "train_nn_accuracy = get_nn_accuracy(train_scores, y_train)\n",
        "val_nn_accuracy = get_nn_accuracy(val_scores, y_val)\n",
        "\n",
        "print(f'Train NN accuracy {train_nn_accuracy}')\n",
        "print(f'Val NN accuracy {val_nn_accuracy}')"
      ],
      "execution_count": 277,
      "outputs": [
        {
          "output_type": "display_data",
          "data": {
            "application/vnd.jupyter.widget-view+json": {
              "model_id": "1d351438091c4f22855c9d9d97a87704",
              "version_minor": 0,
              "version_major": 2
            },
            "text/plain": [
              "HBox(children=(IntProgress(value=0, max=22888), HTML(value='')))"
            ]
          },
          "metadata": {
            "tags": []
          }
        },
        {
          "output_type": "display_data",
          "data": {
            "application/vnd.jupyter.widget-view+json": {
              "model_id": "72425c55b0c74c3581b5ad49ba53cbd2",
              "version_minor": 0,
              "version_major": 2
            },
            "text/plain": [
              "HBox(children=(IntProgress(value=0, max=2544), HTML(value='')))"
            ]
          },
          "metadata": {
            "tags": []
          }
        },
        {
          "output_type": "stream",
          "text": [
            "Train NN accuracy 0.3399161132471164\n",
            "Val NN accuracy 0.31525157232704404\n"
          ],
          "name": "stdout"
        }
      ]
    },
    {
      "cell_type": "code",
      "metadata": {
        "id": "ecn7UNYXmas5",
        "colab_type": "code",
        "colab": {
          "base_uri": "https://localhost:8080/",
          "height": 35
        },
        "outputId": "8ddb3942-b3cd-4b74-810c-da687455a5a4"
      },
      "source": [
        "cat_model = CatBoostClassifier(\n",
        "    iterations=5,\n",
        "    learning_rate=0.1\n",
        ")\n",
        "\n",
        "cat_model.fit(\n",
        "    scores_train, y_train,\n",
        "    #cat_features=list(range(max(y_train) + 1)),\n",
        "    eval_set=(scores_val, y_val),\n",
        "    verbose=False\n",
        ")"
      ],
      "execution_count": 278,
      "outputs": [
        {
          "output_type": "execute_result",
          "data": {
            "text/plain": [
              "<catboost.core.CatBoostClassifier at 0x7f6b457a3908>"
            ]
          },
          "metadata": {
            "tags": []
          },
          "execution_count": 278
        }
      ]
    },
    {
      "cell_type": "code",
      "metadata": {
        "id": "8T3uGcM_o5Yg",
        "colab_type": "code",
        "colab": {
          "base_uri": "https://localhost:8080/",
          "height": 53
        },
        "outputId": "8668af4d-5107-4321-a2af-30073b79aabd"
      },
      "source": [
        "train_cat_accuracy = get_cat_accuracy(cat_model, train_scores, y_train)\n",
        "val_cat_accuracy = get_cat_accuracy(cat_model, val_scores, y_val)\n",
        "\n",
        "print(f'Train Cat accuracy {train_cat_accuracy}')\n",
        "print(f'Val Cat accuracy {val_cat_accuracy}')"
      ],
      "execution_count": 279,
      "outputs": [
        {
          "output_type": "stream",
          "text": [
            "Train Cat accuracy 0.07567284166375393\n",
            "Val Cat accuracy 0.0699685534591195\n"
          ],
          "name": "stdout"
        }
      ]
    },
    {
      "cell_type": "code",
      "metadata": {
        "id": "6hJxlqvJlEyV",
        "colab_type": "code",
        "outputId": "d2b5c6b6-4bcd-4241-fe5e-7063745abca8",
        "colab": {
          "base_uri": "https://localhost:8080/",
          "height": 117,
          "referenced_widgets": [
            "41569ddd52e143d4b6c42cdabaa95773",
            "031049a1e2c9458b8bfdf781b232edc6",
            "2ff16cd8096146eab5ce428d88336234",
            "96359965e6764d4183bb307121425b28",
            "ba113c7d7a134ddd8ca5d786a81bc5bc",
            "8e95c72e55ee4f96aad9c80e5e6125db",
            "3ba2625e3ae54c3e81c454bad71dfe98",
            "2e571f62d0064f8da5f415b1b4965aa6",
            "db5a012b7dd848b691f3e90b49c06945",
            "281a90dcc3344c0aa779d7ebcd9fafb4",
            "979c134f2fd1449ab5cb1c7a2267c968",
            "fd9e39313af54c808341f0458b375981",
            "8ab0f3ef36aa4479bf74992b465cbb96",
            "5c3e28ad982a4772bd927c42944b91a8",
            "0506ed20d20b40c1974af401af91901f",
            "aa7beb517e6d417e9ef016daa705ac37"
          ]
        }
      },
      "source": [
        "images = []\n",
        "with zipfile.ZipFile(PATH_DATA, 'r') as zip_file:\n",
        "    image_names = [f[10:] for f in zip_file.namelist() if 'test' in f]\n",
        "\n",
        "    for name in tqdm(image_names):\n",
        "        with zip_file.open(os.path.join('test', 'test', name)) as img_file:\n",
        "            image = Image.open(img_file).convert('RGB')\n",
        "        images += [(name, image)]\n",
        "\n",
        "model.eval()\n",
        "predictions = {'filename': [], 'class_number': []}\n",
        "with torch.no_grad():\n",
        "    for name, image in tqdm(images):\n",
        "        x = collate_xs([image])\n",
        "        x = x.to(device)\n",
        "\n",
        "        y = model(x)[0].argmax()\n",
        "        y = y.item()\n",
        "\n",
        "        predictions['filename'] += [name]\n",
        "        predictions['class_number'] += [y]\n",
        "\n",
        "predictions = pd.DataFrame(predictions)\n",
        "predictions.to_csv('test_neural.csv', index=False)"
      ],
      "execution_count": 0,
      "outputs": [
        {
          "output_type": "display_data",
          "data": {
            "application/vnd.jupyter.widget-view+json": {
              "model_id": "41569ddd52e143d4b6c42cdabaa95773",
              "version_minor": 0,
              "version_major": 2
            },
            "text/plain": [
              "HBox(children=(IntProgress(value=0, max=7551), HTML(value='')))"
            ]
          },
          "metadata": {
            "tags": []
          }
        },
        {
          "output_type": "stream",
          "text": [
            "\n"
          ],
          "name": "stdout"
        },
        {
          "output_type": "display_data",
          "data": {
            "application/vnd.jupyter.widget-view+json": {
              "model_id": "db5a012b7dd848b691f3e90b49c06945",
              "version_minor": 0,
              "version_major": 2
            },
            "text/plain": [
              "HBox(children=(IntProgress(value=0, max=7551), HTML(value='')))"
            ]
          },
          "metadata": {
            "tags": []
          }
        },
        {
          "output_type": "stream",
          "text": [
            "\n"
          ],
          "name": "stdout"
        }
      ]
    },
    {
      "cell_type": "code",
      "metadata": {
        "id": "0u2j8hhfPMcS",
        "colab_type": "code",
        "colab": {}
      },
      "source": [
        ""
      ],
      "execution_count": 0,
      "outputs": []
    }
  ]
}