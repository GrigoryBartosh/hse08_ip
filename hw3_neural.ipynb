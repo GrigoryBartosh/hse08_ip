{
  "nbformat": 4,
  "nbformat_minor": 0,
  "metadata": {
    "accelerator": "GPU",
    "colab": {
      "name": "hw32.ipynb",
      "provenance": [],
      "toc_visible": true,
      "include_colab_link": true
    },
    "kernelspec": {
      "name": "python3",
      "display_name": "Python 3"
    },
    "language_info": {
      "codemirror_mode": {
        "name": "ipython",
        "version": 3
      },
      "file_extension": ".py",
      "mimetype": "text/x-python",
      "name": "python",
      "nbconvert_exporter": "python",
      "pygments_lexer": "ipython3",
      "version": "3.6.6"
    },
    "widgets": {
      "application/vnd.jupyter.widget-state+json": {
        "6454aa9fef6e4b20913b689ec7ae9166": {
          "model_module": "@jupyter-widgets/controls",
          "model_name": "HBoxModel",
          "state": {
            "_view_name": "HBoxView",
            "_dom_classes": [],
            "_model_name": "HBoxModel",
            "_view_module": "@jupyter-widgets/controls",
            "_model_module_version": "1.5.0",
            "_view_count": null,
            "_view_module_version": "1.5.0",
            "box_style": "",
            "layout": "IPY_MODEL_ab9987dce4e549eabc13e0750a71e5e6",
            "_model_module": "@jupyter-widgets/controls",
            "children": [
              "IPY_MODEL_7654ba2377a6475c8fc641e623f7fc9e",
              "IPY_MODEL_61099681948344b4a3e43a60a4b63991"
            ]
          }
        },
        "ab9987dce4e549eabc13e0750a71e5e6": {
          "model_module": "@jupyter-widgets/base",
          "model_name": "LayoutModel",
          "state": {
            "_view_name": "LayoutView",
            "grid_template_rows": null,
            "right": null,
            "justify_content": null,
            "_view_module": "@jupyter-widgets/base",
            "overflow": null,
            "_model_module_version": "1.2.0",
            "_view_count": null,
            "flex_flow": null,
            "width": null,
            "min_width": null,
            "border": null,
            "align_items": null,
            "bottom": null,
            "_model_module": "@jupyter-widgets/base",
            "top": null,
            "grid_column": null,
            "overflow_y": null,
            "overflow_x": null,
            "grid_auto_flow": null,
            "grid_area": null,
            "grid_template_columns": null,
            "flex": null,
            "_model_name": "LayoutModel",
            "justify_items": null,
            "grid_row": null,
            "max_height": null,
            "align_content": null,
            "visibility": null,
            "align_self": null,
            "height": null,
            "min_height": null,
            "padding": null,
            "grid_auto_rows": null,
            "grid_gap": null,
            "max_width": null,
            "order": null,
            "_view_module_version": "1.2.0",
            "grid_template_areas": null,
            "object_position": null,
            "object_fit": null,
            "grid_auto_columns": null,
            "margin": null,
            "display": null,
            "left": null
          }
        },
        "7654ba2377a6475c8fc641e623f7fc9e": {
          "model_module": "@jupyter-widgets/controls",
          "model_name": "IntProgressModel",
          "state": {
            "_view_name": "ProgressView",
            "style": "IPY_MODEL_231861da7ab44806bd3132c783292372",
            "_dom_classes": [],
            "description": "",
            "_model_name": "IntProgressModel",
            "bar_style": "success",
            "max": 1,
            "_view_module": "@jupyter-widgets/controls",
            "_model_module_version": "1.5.0",
            "value": 1,
            "_view_count": null,
            "_view_module_version": "1.5.0",
            "orientation": "horizontal",
            "min": 0,
            "description_tooltip": null,
            "_model_module": "@jupyter-widgets/controls",
            "layout": "IPY_MODEL_92a42c6156254a989ac2e66d7d20a37d"
          }
        },
        "61099681948344b4a3e43a60a4b63991": {
          "model_module": "@jupyter-widgets/controls",
          "model_name": "HTMLModel",
          "state": {
            "_view_name": "HTMLView",
            "style": "IPY_MODEL_f8e154153d694cbfadb63183faa81162",
            "_dom_classes": [],
            "description": "",
            "_model_name": "HTMLModel",
            "placeholder": "​",
            "_view_module": "@jupyter-widgets/controls",
            "_model_module_version": "1.5.0",
            "value": "25432it [00:11, 2243.71it/s]",
            "_view_count": null,
            "_view_module_version": "1.5.0",
            "description_tooltip": null,
            "_model_module": "@jupyter-widgets/controls",
            "layout": "IPY_MODEL_7aa41e2fcb6d4c9c8f8f4d401a85386e"
          }
        },
        "231861da7ab44806bd3132c783292372": {
          "model_module": "@jupyter-widgets/controls",
          "model_name": "ProgressStyleModel",
          "state": {
            "_view_name": "StyleView",
            "_model_name": "ProgressStyleModel",
            "description_width": "",
            "_view_module": "@jupyter-widgets/base",
            "_model_module_version": "1.5.0",
            "_view_count": null,
            "_view_module_version": "1.2.0",
            "bar_color": null,
            "_model_module": "@jupyter-widgets/controls"
          }
        },
        "92a42c6156254a989ac2e66d7d20a37d": {
          "model_module": "@jupyter-widgets/base",
          "model_name": "LayoutModel",
          "state": {
            "_view_name": "LayoutView",
            "grid_template_rows": null,
            "right": null,
            "justify_content": null,
            "_view_module": "@jupyter-widgets/base",
            "overflow": null,
            "_model_module_version": "1.2.0",
            "_view_count": null,
            "flex_flow": null,
            "width": null,
            "min_width": null,
            "border": null,
            "align_items": null,
            "bottom": null,
            "_model_module": "@jupyter-widgets/base",
            "top": null,
            "grid_column": null,
            "overflow_y": null,
            "overflow_x": null,
            "grid_auto_flow": null,
            "grid_area": null,
            "grid_template_columns": null,
            "flex": null,
            "_model_name": "LayoutModel",
            "justify_items": null,
            "grid_row": null,
            "max_height": null,
            "align_content": null,
            "visibility": null,
            "align_self": null,
            "height": null,
            "min_height": null,
            "padding": null,
            "grid_auto_rows": null,
            "grid_gap": null,
            "max_width": null,
            "order": null,
            "_view_module_version": "1.2.0",
            "grid_template_areas": null,
            "object_position": null,
            "object_fit": null,
            "grid_auto_columns": null,
            "margin": null,
            "display": null,
            "left": null
          }
        },
        "f8e154153d694cbfadb63183faa81162": {
          "model_module": "@jupyter-widgets/controls",
          "model_name": "DescriptionStyleModel",
          "state": {
            "_view_name": "StyleView",
            "_model_name": "DescriptionStyleModel",
            "description_width": "",
            "_view_module": "@jupyter-widgets/base",
            "_model_module_version": "1.5.0",
            "_view_count": null,
            "_view_module_version": "1.2.0",
            "_model_module": "@jupyter-widgets/controls"
          }
        },
        "7aa41e2fcb6d4c9c8f8f4d401a85386e": {
          "model_module": "@jupyter-widgets/base",
          "model_name": "LayoutModel",
          "state": {
            "_view_name": "LayoutView",
            "grid_template_rows": null,
            "right": null,
            "justify_content": null,
            "_view_module": "@jupyter-widgets/base",
            "overflow": null,
            "_model_module_version": "1.2.0",
            "_view_count": null,
            "flex_flow": null,
            "width": null,
            "min_width": null,
            "border": null,
            "align_items": null,
            "bottom": null,
            "_model_module": "@jupyter-widgets/base",
            "top": null,
            "grid_column": null,
            "overflow_y": null,
            "overflow_x": null,
            "grid_auto_flow": null,
            "grid_area": null,
            "grid_template_columns": null,
            "flex": null,
            "_model_name": "LayoutModel",
            "justify_items": null,
            "grid_row": null,
            "max_height": null,
            "align_content": null,
            "visibility": null,
            "align_self": null,
            "height": null,
            "min_height": null,
            "padding": null,
            "grid_auto_rows": null,
            "grid_gap": null,
            "max_width": null,
            "order": null,
            "_view_module_version": "1.2.0",
            "grid_template_areas": null,
            "object_position": null,
            "object_fit": null,
            "grid_auto_columns": null,
            "margin": null,
            "display": null,
            "left": null
          }
        },
        "e425b26f464b4c36b65c58d652ea76e4": {
          "model_module": "@jupyter-widgets/controls",
          "model_name": "HBoxModel",
          "state": {
            "_view_name": "HBoxView",
            "_dom_classes": [],
            "_model_name": "HBoxModel",
            "_view_module": "@jupyter-widgets/controls",
            "_model_module_version": "1.5.0",
            "_view_count": null,
            "_view_module_version": "1.5.0",
            "box_style": "",
            "layout": "IPY_MODEL_50d0cfc4a88c4725b8eaad43d2dc4a57",
            "_model_module": "@jupyter-widgets/controls",
            "children": [
              "IPY_MODEL_381bf57c7b274488beff2bce05c17eeb",
              "IPY_MODEL_25d3c2943f1a483b8ef65f9e8dcd9761"
            ]
          }
        },
        "50d0cfc4a88c4725b8eaad43d2dc4a57": {
          "model_module": "@jupyter-widgets/base",
          "model_name": "LayoutModel",
          "state": {
            "_view_name": "LayoutView",
            "grid_template_rows": null,
            "right": null,
            "justify_content": null,
            "_view_module": "@jupyter-widgets/base",
            "overflow": null,
            "_model_module_version": "1.2.0",
            "_view_count": null,
            "flex_flow": null,
            "width": null,
            "min_width": null,
            "border": null,
            "align_items": null,
            "bottom": null,
            "_model_module": "@jupyter-widgets/base",
            "top": null,
            "grid_column": null,
            "overflow_y": null,
            "overflow_x": null,
            "grid_auto_flow": null,
            "grid_area": null,
            "grid_template_columns": null,
            "flex": null,
            "_model_name": "LayoutModel",
            "justify_items": null,
            "grid_row": null,
            "max_height": null,
            "align_content": null,
            "visibility": null,
            "align_self": null,
            "height": null,
            "min_height": null,
            "padding": null,
            "grid_auto_rows": null,
            "grid_gap": null,
            "max_width": null,
            "order": null,
            "_view_module_version": "1.2.0",
            "grid_template_areas": null,
            "object_position": null,
            "object_fit": null,
            "grid_auto_columns": null,
            "margin": null,
            "display": null,
            "left": null
          }
        },
        "381bf57c7b274488beff2bce05c17eeb": {
          "model_module": "@jupyter-widgets/controls",
          "model_name": "IntProgressModel",
          "state": {
            "_view_name": "ProgressView",
            "style": "IPY_MODEL_18616410ed6d406782e1dfedab7a7fcc",
            "_dom_classes": [],
            "description": "",
            "_model_name": "IntProgressModel",
            "bar_style": "",
            "max": 50,
            "_view_module": "@jupyter-widgets/controls",
            "_model_module_version": "1.5.0",
            "value": 0,
            "_view_count": null,
            "_view_module_version": "1.5.0",
            "orientation": "horizontal",
            "min": 0,
            "description_tooltip": null,
            "_model_module": "@jupyter-widgets/controls",
            "layout": "IPY_MODEL_47a6533ee38f4b23a317fce7b10fe789"
          }
        },
        "25d3c2943f1a483b8ef65f9e8dcd9761": {
          "model_module": "@jupyter-widgets/controls",
          "model_name": "HTMLModel",
          "state": {
            "_view_name": "HTMLView",
            "style": "IPY_MODEL_a3af43fdc196438b9b722f0fcb4989c7",
            "_dom_classes": [],
            "description": "",
            "_model_name": "HTMLModel",
            "placeholder": "​",
            "_view_module": "@jupyter-widgets/controls",
            "_model_module_version": "1.5.0",
            "value": "  0% 0/50 [00:00&lt;?, ?it/s]",
            "_view_count": null,
            "_view_module_version": "1.5.0",
            "description_tooltip": null,
            "_model_module": "@jupyter-widgets/controls",
            "layout": "IPY_MODEL_01d6102764e54619a3e6b9e739ed6992"
          }
        },
        "18616410ed6d406782e1dfedab7a7fcc": {
          "model_module": "@jupyter-widgets/controls",
          "model_name": "ProgressStyleModel",
          "state": {
            "_view_name": "StyleView",
            "_model_name": "ProgressStyleModel",
            "description_width": "",
            "_view_module": "@jupyter-widgets/base",
            "_model_module_version": "1.5.0",
            "_view_count": null,
            "_view_module_version": "1.2.0",
            "bar_color": null,
            "_model_module": "@jupyter-widgets/controls"
          }
        },
        "47a6533ee38f4b23a317fce7b10fe789": {
          "model_module": "@jupyter-widgets/base",
          "model_name": "LayoutModel",
          "state": {
            "_view_name": "LayoutView",
            "grid_template_rows": null,
            "right": null,
            "justify_content": null,
            "_view_module": "@jupyter-widgets/base",
            "overflow": null,
            "_model_module_version": "1.2.0",
            "_view_count": null,
            "flex_flow": null,
            "width": null,
            "min_width": null,
            "border": null,
            "align_items": null,
            "bottom": null,
            "_model_module": "@jupyter-widgets/base",
            "top": null,
            "grid_column": null,
            "overflow_y": null,
            "overflow_x": null,
            "grid_auto_flow": null,
            "grid_area": null,
            "grid_template_columns": null,
            "flex": null,
            "_model_name": "LayoutModel",
            "justify_items": null,
            "grid_row": null,
            "max_height": null,
            "align_content": null,
            "visibility": null,
            "align_self": null,
            "height": null,
            "min_height": null,
            "padding": null,
            "grid_auto_rows": null,
            "grid_gap": null,
            "max_width": null,
            "order": null,
            "_view_module_version": "1.2.0",
            "grid_template_areas": null,
            "object_position": null,
            "object_fit": null,
            "grid_auto_columns": null,
            "margin": null,
            "display": null,
            "left": null
          }
        },
        "a3af43fdc196438b9b722f0fcb4989c7": {
          "model_module": "@jupyter-widgets/controls",
          "model_name": "DescriptionStyleModel",
          "state": {
            "_view_name": "StyleView",
            "_model_name": "DescriptionStyleModel",
            "description_width": "",
            "_view_module": "@jupyter-widgets/base",
            "_model_module_version": "1.5.0",
            "_view_count": null,
            "_view_module_version": "1.2.0",
            "_model_module": "@jupyter-widgets/controls"
          }
        },
        "01d6102764e54619a3e6b9e739ed6992": {
          "model_module": "@jupyter-widgets/base",
          "model_name": "LayoutModel",
          "state": {
            "_view_name": "LayoutView",
            "grid_template_rows": null,
            "right": null,
            "justify_content": null,
            "_view_module": "@jupyter-widgets/base",
            "overflow": null,
            "_model_module_version": "1.2.0",
            "_view_count": null,
            "flex_flow": null,
            "width": null,
            "min_width": null,
            "border": null,
            "align_items": null,
            "bottom": null,
            "_model_module": "@jupyter-widgets/base",
            "top": null,
            "grid_column": null,
            "overflow_y": null,
            "overflow_x": null,
            "grid_auto_flow": null,
            "grid_area": null,
            "grid_template_columns": null,
            "flex": null,
            "_model_name": "LayoutModel",
            "justify_items": null,
            "grid_row": null,
            "max_height": null,
            "align_content": null,
            "visibility": null,
            "align_self": null,
            "height": null,
            "min_height": null,
            "padding": null,
            "grid_auto_rows": null,
            "grid_gap": null,
            "max_width": null,
            "order": null,
            "_view_module_version": "1.2.0",
            "grid_template_areas": null,
            "object_position": null,
            "object_fit": null,
            "grid_auto_columns": null,
            "margin": null,
            "display": null,
            "left": null
          }
        }
      }
    }
  },
  "cells": [
    {
      "cell_type": "markdown",
      "metadata": {
        "id": "view-in-github",
        "colab_type": "text"
      },
      "source": [
        "<a href=\"https://colab.research.google.com/github/GrigoryBartosh/hse08_ip/blob/master/hw3_neural.ipynb\" target=\"_parent\"><img src=\"https://colab.research.google.com/assets/colab-badge.svg\" alt=\"Open In Colab\"/></a>"
      ]
    },
    {
      "cell_type": "code",
      "metadata": {
        "id": "-zSgN3JaUqtt",
        "colab_type": "code",
        "outputId": "4cfebb93-2f19-4b18-dfb4-ae11c5444b70",
        "colab": {
          "base_uri": "https://localhost:8080/",
          "height": 35
        }
      },
      "source": [
        "from google.colab import drive\n",
        "drive.mount('/content/drive')"
      ],
      "execution_count": 1,
      "outputs": [
        {
          "output_type": "stream",
          "text": [
            "Drive already mounted at /content/drive; to attempt to forcibly remount, call drive.mount(\"/content/drive\", force_remount=True).\n"
          ],
          "name": "stdout"
        }
      ]
    },
    {
      "cell_type": "code",
      "metadata": {
        "id": "Xeq-J61DMoYf",
        "colab_type": "code",
        "outputId": "cb6e4004-6c0d-45dd-93e9-99c2d482bbe2",
        "colab": {
          "base_uri": "https://localhost:8080/",
          "height": 35
        }
      },
      "source": [
        "cd 'drive/My Drive/ip_hw_3'"
      ],
      "execution_count": 2,
      "outputs": [
        {
          "output_type": "stream",
          "text": [
            "/content/drive/My Drive/ip_hw_3\n"
          ],
          "name": "stdout"
        }
      ]
    },
    {
      "cell_type": "code",
      "metadata": {
        "id": "ybArQ57lhUTA",
        "colab_type": "code",
        "colab": {}
      },
      "source": [
        "! pip install wandb >> /dev/null"
      ],
      "execution_count": 0,
      "outputs": []
    },
    {
      "cell_type": "code",
      "metadata": {
        "colab_type": "code",
        "id": "qRxFFBmUmhr1",
        "colab": {}
      },
      "source": [
        "import os\n",
        "import copy\n",
        "import zipfile\n",
        "import pandas as pd\n",
        "\n",
        "import numpy as np\n",
        "from sklearn.model_selection import train_test_split\n",
        "\n",
        "import torch\n",
        "import torch.nn as nn\n",
        "import torch.optim as optim\n",
        "import torch.utils.data as data\n",
        "import torch.nn.functional as F\n",
        "from torchvision import models\n",
        "from torchvision import transforms\n",
        "\n",
        "from PIL import Image\n",
        "\n",
        "import wandb\n",
        "\n",
        "from tqdm.auto import tqdm, trange\n",
        "import matplotlib.pyplot as plt\n",
        "import matplotlib.cm as cm\n",
        "\n",
        "PATH_DATA = 'tl-signs-hse-itmo-2020-winter.zip'\n",
        "\n",
        "device = torch.device('cuda:0' if torch.cuda.is_available() else 'cpu')\n",
        "\n",
        "BATCH_SIZE = 256"
      ],
      "execution_count": 0,
      "outputs": []
    },
    {
      "cell_type": "code",
      "metadata": {
        "colab_type": "code",
        "id": "7jId6n6smhr5",
        "outputId": "39fdcc68-8a58-462e-9f50-14e6f3e9c274",
        "colab": {
          "base_uri": "https://localhost:8080/",
          "height": 67,
          "referenced_widgets": [
            "6454aa9fef6e4b20913b689ec7ae9166",
            "ab9987dce4e549eabc13e0750a71e5e6",
            "7654ba2377a6475c8fc641e623f7fc9e",
            "61099681948344b4a3e43a60a4b63991",
            "231861da7ab44806bd3132c783292372",
            "92a42c6156254a989ac2e66d7d20a37d",
            "f8e154153d694cbfadb63183faa81162",
            "7aa41e2fcb6d4c9c8f8f4d401a85386e"
          ]
        }
      },
      "source": [
        "xs, ys = [], []\n",
        "with zipfile.ZipFile(PATH_DATA, 'r') as zip_file:\n",
        "    with zip_file.open('train.csv') as file:\n",
        "        train_data = pd.read_csv(file)\n",
        "\n",
        "    for _, x in tqdm(train_data.iterrows()):\n",
        "        name, lable = x['filename'], x['class_number']\n",
        "        with zip_file.open(os.path.join('train', 'train', name)) as img_file:\n",
        "            image = Image.open(img_file).convert('RGB')\n",
        "        xs += [image]\n",
        "        ys += [lable]\n",
        "\n",
        "num_classes = max(ys) + 1\n",
        "\n",
        "x_train, x_val, y_train, y_val = train_test_split(xs, ys, test_size=0.1)"
      ],
      "execution_count": 5,
      "outputs": [
        {
          "output_type": "display_data",
          "data": {
            "application/vnd.jupyter.widget-view+json": {
              "model_id": "6454aa9fef6e4b20913b689ec7ae9166",
              "version_minor": 0,
              "version_major": 2
            },
            "text/plain": [
              "HBox(children=(IntProgress(value=1, bar_style='info', max=1), HTML(value='')))"
            ]
          },
          "metadata": {
            "tags": []
          }
        },
        {
          "output_type": "stream",
          "text": [
            "\n"
          ],
          "name": "stdout"
        }
      ]
    },
    {
      "cell_type": "code",
      "metadata": {
        "id": "3T4IFi7qkxxF",
        "colab_type": "code",
        "colab": {}
      },
      "source": [
        "class SiamDataset(data.Dataset):\n",
        "    def __init__(self, xs, ys, do_aug=False):\n",
        "        self.xs = xs\n",
        "        self.ys = ys\n",
        "        self.do_aug = do_aug\n",
        "\n",
        "    def aug(self, x):\n",
        "        P = 0.5\n",
        "\n",
        "        x = x.copy()\n",
        "        w, h, _ = x.shape\n",
        "        dx = np.random.randint(int(w * P))\n",
        "        dy = np.random.randint(int(h * P))\n",
        "        x1 = np.random.randint(w - dx)\n",
        "        y1 = np.random.randint(h - dy)\n",
        "        x2, y2 = x1 + dx, y1 + dy\n",
        "        x[x1:x2, y1:y2] = 0\n",
        "\n",
        "        return x\n",
        "\n",
        "    def __getitem__(self, index):\n",
        "        x = self.xs[index]\n",
        "        y = self.ys[index]\n",
        "\n",
        "        x = np.array(x)\n",
        "        x = self.aug(x) if self.do_aug else x\n",
        "        x = torch.FloatTensor(x)\n",
        "\n",
        "        y = torch.LongTensor([y])\n",
        "\n",
        "        return x, y\n",
        "\n",
        "    def __len__(self):\n",
        "        return len(self.xs)"
      ],
      "execution_count": 0,
      "outputs": []
    },
    {
      "cell_type": "code",
      "metadata": {
        "colab_type": "code",
        "id": "4VFGYLJFmhr8",
        "colab": {}
      },
      "source": [
        "def collate_xs(xs):\n",
        "    xs = torch.stack(xs, axis=0)\n",
        "    xs = xs * 2 / 255 - 1\n",
        "    xs = xs.permute(0, 3, 1, 2)\n",
        "\n",
        "    return xs\n",
        "\n",
        "def collate_fn(data):\n",
        "    xs, ys = zip(*data)\n",
        "    \n",
        "    xs = collate_xs(xs)\n",
        "    ys = torch.cat(ys)\n",
        "\n",
        "    return xs, ys\n",
        "\n",
        "train_dataset = SiamDataset(x_train, y_train, do_aug=True)\n",
        "val_dataset = SiamDataset(x_val, y_val, do_aug=False)\n",
        "\n",
        "train_data_loader = data.DataLoader(\n",
        "    dataset=train_dataset,\n",
        "    batch_size=BATCH_SIZE,\n",
        "    shuffle=True,\n",
        "    num_workers=8,\n",
        "    collate_fn=collate_fn\n",
        ")\n",
        "val_data_loader = data.DataLoader(\n",
        "    dataset=val_dataset,\n",
        "    batch_size=BATCH_SIZE,\n",
        "    shuffle=False,\n",
        "    num_workers=8,\n",
        "    collate_fn=collate_fn\n",
        ")"
      ],
      "execution_count": 0,
      "outputs": []
    },
    {
      "cell_type": "code",
      "metadata": {
        "colab_type": "code",
        "id": "zAWlIByBmhsB",
        "colab": {}
      },
      "source": [
        "def conv3x3(in_planes, out_planes, stride=1, padding=1):\n",
        "    return nn.Conv2d(in_planes, out_planes, 3, \n",
        "                     stride, padding, bias=False)\n",
        "    \n",
        "\n",
        "def conv1x1(in_planes, out_planes, stride=1):\n",
        "    return nn.Conv2d(in_planes, out_planes, 1, \n",
        "                     stride, padding=0, bias=False)\n",
        "\n",
        "\n",
        "class SimpleBlock(nn.Module):\n",
        "    def __init__(self, in_planes, out_planes=None, stride=1):\n",
        "        super(SimpleBlock, self).__init__()\n",
        "\n",
        "        if out_planes is None:\n",
        "            out_planes = in_planes\n",
        "\n",
        "        self.activ = nn.ReLU()\n",
        "\n",
        "        self.conv1 = conv3x3(in_planes, out_planes, stride)\n",
        "        self.ln1 = nn.BatchNorm2d(out_planes)\n",
        "\n",
        "    def forward(self, x):\n",
        "        out = self.conv1(x)\n",
        "        out = self.ln1(out)\n",
        "        out = self.activ(out)\n",
        "\n",
        "        return out\n",
        "\n",
        "\n",
        "class ResBasicBlock(nn.Module):\n",
        "    def __init__(self, in_planes, out_planes=None, stride=1):\n",
        "        super(ResBasicBlock, self).__init__()\n",
        "\n",
        "        planes = in_planes\n",
        "\n",
        "        if out_planes is None:\n",
        "            out_planes = planes\n",
        "\n",
        "        self.residual_conv = None\n",
        "        if stride != 1 or in_planes != out_planes:\n",
        "            self.residual_conv = conv1x1(in_planes, out_planes, stride)\n",
        "            self.residual_ln = nn.BatchNorm2d(out_planes)\n",
        "\n",
        "        self.activ = nn.ReLU()\n",
        "\n",
        "        self.conv1 = conv3x3(in_planes, planes, stride)\n",
        "        self.ln1 = nn.BatchNorm2d(planes)\n",
        "        self.conv2 = conv3x3(planes, out_planes)\n",
        "        self.ln2 = nn.BatchNorm2d(out_planes)\n",
        "\n",
        "    def forward(self, x):\n",
        "        identity = x\n",
        "\n",
        "        out = self.conv1(x)\n",
        "        out = self.ln1(out)\n",
        "        out = self.activ(out)\n",
        "\n",
        "        out = self.conv2(out)\n",
        "        out = self.ln2(out)\n",
        "\n",
        "        if self.residual_conv is not None:\n",
        "            identity = self.residual_conv(identity)\n",
        "            identity = self.residual_ln(identity)\n",
        "\n",
        "        out += identity\n",
        "        out = self.activ(out)\n",
        "\n",
        "        return out\n",
        "\n",
        "\n",
        "class FeatureExtractor(nn.Module):\n",
        "    def __init__(self, in_dim=8):\n",
        "        super(FeatureExtractor, self).__init__()\n",
        "\n",
        "        self.embed_dim = in_dim * 2 ** 4\n",
        "\n",
        "        self.model = [SimpleBlock(3, in_dim, 2)]\n",
        "        for _ in range(3):\n",
        "            self.model += [ResBasicBlock(in_dim, in_dim * 2, 2),\n",
        "                           ResBasicBlock(in_dim * 2, in_dim * 2)]\n",
        "            in_dim = in_dim * 2\n",
        "        self.model += [conv3x3(in_dim, self.embed_dim, padding=0)]\n",
        "\n",
        "        self.model = nn.Sequential(*self.model)\n",
        "                 \n",
        "    def forward(self, x):\n",
        "        x = self.model(x)\n",
        "        x = x.squeeze()\n",
        "        return x\n",
        "\n",
        "\n",
        "class AnsambleModel(nn.Module):\n",
        "    def __init__(self, n, in_dim):\n",
        "        super(AnsambleModel, self).__init__()\n",
        "\n",
        "        self.models = nn.ModuleList([FeatureExtractor(in_dim) for _ in range(n)])\n",
        "\n",
        "    def forward(self, x):\n",
        "        x = [m(x) for m in self.models]\n",
        "        x = torch.stack(x, axis=0)\n",
        "        return x"
      ],
      "execution_count": 0,
      "outputs": []
    },
    {
      "cell_type": "code",
      "metadata": {
        "id": "xclKdg5Rbdey",
        "colab_type": "code",
        "colab": {}
      },
      "source": [
        "class TripletLoss(nn.Module):\n",
        "    def __init__(self, margin=1.0, p=2, part=1.0):\n",
        "        super(TripletLoss, self).__init__()\n",
        "\n",
        "        self.margin = margin\n",
        "        self.dist_f = nn.PairwiseDistance(p=p)\n",
        "        self.part = part\n",
        "\n",
        "    def get_scores(self, xs):\n",
        "        bs, dim = xs.shape\n",
        "        xs1 = xs[:, None, :].expand(bs, bs, dim).reshape(-1, dim)\n",
        "        xs2 = xs[None, :, :].expand(bs, bs, dim).reshape(-1, dim)\n",
        "        scores = self.dist_f(xs1, xs2).reshape(bs, bs)\n",
        "        return scores\n",
        "\n",
        "    def get_match_class(self, ys):\n",
        "        bs = ys.shape[0]\n",
        "        ys1 = ys[:, None].expand(bs, bs)\n",
        "        ys2 = ys[None, :].expand(bs, bs)\n",
        "        return ys1 == ys2\n",
        "\n",
        "    def get_pair_losses(self, pos_scores, neg_scores):\n",
        "        bs = pos_scores.shape[0]\n",
        "        pos_scores = pos_scores[:, :, None].expand(bs, bs, bs)\n",
        "        neg_scores = neg_scores[:, None, :].expand(bs, bs, bs)\n",
        "        pair_losses = torch.max(pos_scores - neg_scores + self.margin,\n",
        "                                torch.zeros_like(pos_scores))\n",
        "        return pair_losses\n",
        "\n",
        "    def forward(self, xs, ys):\n",
        "        scores = self.get_scores(xs)\n",
        "        match_class = self.get_match_class(ys)\n",
        "\n",
        "        pos_scores = scores * match_class - \\\n",
        "                     (scores.max() + self.margin) * (~match_class)\n",
        "        neg_scores = scores * (~match_class) + \\\n",
        "                     (scores.max() + self.margin) * match_class\n",
        "\n",
        "        pair_losses = self.get_pair_losses(pos_scores, neg_scores)\n",
        "\n",
        "        bs = pair_losses.shape[0]\n",
        "        pair_losses = pair_losses.reshape(bs, -1)\n",
        "\n",
        "        k = int(bs * self.part)\n",
        "        pair_losses, _ = pair_losses.topk(k=k, dim=-1)\n",
        "\n",
        "        loss = pair_losses.mean()\n",
        "\n",
        "        return loss\n",
        "\n",
        "\n",
        "class AnsableTripletLoss(nn.Module):\n",
        "    def __init__(self, margin=1.0, p=2, part=1.0):\n",
        "        super(AnsableTripletLoss, self).__init__()\n",
        "\n",
        "        self.criterion = TripletLoss(margin, p, part)\n",
        "\n",
        "    def forward(self, xs, ys):\n",
        "        losses = []\n",
        "        for x in xs:\n",
        "            losses += [self.criterion(x, ys)]\n",
        "        losses = torch.stack(losses)\n",
        "        loss = losses.sum()\n",
        "        return loss"
      ],
      "execution_count": 0,
      "outputs": []
    },
    {
      "cell_type": "code",
      "metadata": {
        "colab_type": "code",
        "id": "wJTRcl1cmhsP",
        "colab": {}
      },
      "source": [
        "def train(model, criterion, optimizer, scheduler, epochs):\n",
        "    wandb.init(project=\"hse08_ip_hw_3\")\n",
        "\n",
        "    best_model = copy.deepcopy(model)\n",
        "    best_loss = 10 ** 10\n",
        "    for _ in trange(epochs):\n",
        "        for xs, ys in train_data_loader:\n",
        "            xs = xs.to(device)\n",
        "            ys = ys.to(device)\n",
        "            \n",
        "            optimizer.zero_grad()\n",
        "\n",
        "            outputs = model(xs)\n",
        "            loss = criterion(outputs, ys)\n",
        "\n",
        "            wandb.log({'Train loss': loss.item()})\n",
        "\n",
        "            loss.backward()\n",
        "            optimizer.step()\n",
        "\n",
        "        losses = []\n",
        "        model.eval()\n",
        "        with torch.no_grad():\n",
        "            for xs, ys in val_data_loader:\n",
        "                xs = xs.to(device)\n",
        "                ys = ys.to(device)\n",
        "\n",
        "                outputs = model(xs)\n",
        "                loss = criterion(outputs, ys)\n",
        "                \n",
        "                losses += [loss.item()]\n",
        "            \n",
        "        model.train()\n",
        "\n",
        "        loss = np.array(losses).mean()\n",
        "        wandb.log({'Val loss': loss})\n",
        "        \n",
        "        if best_loss > loss:\n",
        "            best_loss = loss\n",
        "            best_model = copy.deepcopy(model)\n",
        "        \n",
        "        if scheduler:\n",
        "            scheduler.step()\n",
        "\n",
        "    return best_model"
      ],
      "execution_count": 0,
      "outputs": []
    },
    {
      "cell_type": "code",
      "metadata": {
        "id": "4dPpYAgxC_Qw",
        "colab_type": "code",
        "colab": {}
      },
      "source": [
        "def get_centroids_for_one(model, xs, ys):\n",
        "    centroids_sum = np.zeros((max(ys) + 1, model.embed_dim))\n",
        "    cnts_sum = np.zeros((max(ys) + 1))\n",
        "\n",
        "    with torch.no_grad():\n",
        "        for i in range(0, len(xs), BATCH_SIZE):\n",
        "            j = min(i + BATCH_SIZE, len(xs))\n",
        "            batch_xs, batch_ys = xs[i:j], ys[i:j]\n",
        "\n",
        "            batch_xs = [torch.FloatTensor(np.array(x)) for x in batch_xs]\n",
        "            batch_xs = collate_xs(batch_xs)\n",
        "            batch_xs = batch_xs.to(device)\n",
        "\n",
        "            features = model(batch_xs).cpu().numpy()\n",
        "            for f, y in zip(features, batch_ys):\n",
        "                centroids_sum[y] += f\n",
        "                cnts_sum[y] += 1\n",
        "\n",
        "    cnts_sum = np.repeat(np.expand_dims(cnts_sum, axis=1), \n",
        "                         model.embed_dim, axis=1)\n",
        "    return centroids_sum / cnts_sum\n",
        "\n",
        "def get_centroids(model, xs, ys):\n",
        "    centroids = [get_centroids_for_one(m, xs, ys) for m in model.models]\n",
        "    centroids = np.stack(centroids, axis=0)\n",
        "    return centroids"
      ],
      "execution_count": 0,
      "outputs": []
    },
    {
      "cell_type": "code",
      "metadata": {
        "id": "y90DFJVqGbAp",
        "colab_type": "code",
        "colab": {}
      },
      "source": [
        "def get_scores_for_one(model, centroids, x):\n",
        "    scores_sum = [0] * (max(ys) + 1)\n",
        "    cnts_sum = [0] * (max(ys) + 1)\n",
        "\n",
        "    with torch.no_grad():\n",
        "        x = [torch.FloatTensor(np.array(x))]\n",
        "        x = collate_xs(x)\n",
        "        x = x.to(device)\n",
        "\n",
        "        x = model(x).cpu().numpy()\n",
        "\n",
        "    x = np.repeat(np.expand_dims(x, axis=0), len(centroids), axis=0)\n",
        "    scores = ((centroids - x) ** 2).sum(axis=1)\n",
        "\n",
        "    return scores\n",
        "\n",
        "def get_scores(model, centroids, x):\n",
        "    scores = [get_scores_for_one(m, c, x) \n",
        "              for m, c, in zip(model.models, centroids)]\n",
        "    scores = np.stack(scores, axis=0)\n",
        "    return scores"
      ],
      "execution_count": 0,
      "outputs": []
    },
    {
      "cell_type": "code",
      "metadata": {
        "id": "NrtiPRRgLowV",
        "colab_type": "code",
        "colab": {}
      },
      "source": [
        "def get_predictions(scores):\n",
        "    #ys = scores.mean(axis=1).argmin(axis=1)\n",
        "\n",
        "    ys = scores.argmin(axis=2)\n",
        "    ys = [np.bincount(y).argmax() for y in ys]\n",
        "    ys = np.stack(ys, axis=0)\n",
        "\n",
        "    return ys"
      ],
      "execution_count": 0,
      "outputs": []
    },
    {
      "cell_type": "code",
      "metadata": {
        "id": "nljJt5Yp5eo1",
        "colab_type": "code",
        "colab": {}
      },
      "source": [
        "def get_nn_accuracy(scores, ys):\n",
        "    ys_predicted = get_predictions(scores)\n",
        "    return (ys_predicted == ys).sum() / len(ys)"
      ],
      "execution_count": 0,
      "outputs": []
    },
    {
      "cell_type": "code",
      "metadata": {
        "id": "mniseR7_NRrr",
        "colab_type": "code",
        "colab": {}
      },
      "source": [
        "def draw(model, xs, ys):\n",
        "    colors = cm.rainbow(np.linspace(0, 1, max(ys) + 1))\n",
        "\n",
        "    with torch.no_grad():\n",
        "        for i in range(0, len(xs), BATCH_SIZE):\n",
        "            j = min(i + BATCH_SIZE, len(xs))\n",
        "            batch_xs, batch_ys = xs[i:j], ys[i:j]\n",
        "\n",
        "            batch_xs = [torch.FloatTensor(np.array(x)) for x in batch_xs]\n",
        "            batch_xs = collate_xs(batch_xs)\n",
        "            batch_xs = batch_xs.to(device)\n",
        "\n",
        "            features = model(batch_xs).cpu().numpy()\n",
        "            for f, y in zip(features, batch_ys):\n",
        "                plt.plot(f[0], f[1], 'ro', color=colors[y])\n",
        "\n",
        "    plt.show()"
      ],
      "execution_count": 0,
      "outputs": []
    },
    {
      "cell_type": "code",
      "metadata": {
        "colab_type": "code",
        "id": "gkfQcIe8mhsV",
        "outputId": "ea4bfdc7-03d3-459b-9df9-3d74ad225f8b",
        "colab": {
          "base_uri": "https://localhost:8080/",
          "height": 100,
          "referenced_widgets": [
            "e425b26f464b4c36b65c58d652ea76e4",
            "50d0cfc4a88c4725b8eaad43d2dc4a57",
            "381bf57c7b274488beff2bce05c17eeb",
            "25d3c2943f1a483b8ef65f9e8dcd9761",
            "18616410ed6d406782e1dfedab7a7fcc",
            "47a6533ee38f4b23a317fce7b10fe789",
            "a3af43fdc196438b9b722f0fcb4989c7",
            "01d6102764e54619a3e6b9e739ed6992"
          ]
        }
      },
      "source": [
        "N = 10\n",
        "IN_DIM = 32\n",
        "MARGIN = 10.0\n",
        "PART = 1.0\n",
        "LR = 0.001\n",
        "EPOCHS = 50\n",
        "\n",
        "nn_model = AnsambleModel(n=N, in_dim=IN_DIM)\n",
        "nn_model.to(device)\n",
        "\n",
        "criterion = AnsableTripletLoss(margin=MARGIN, part=PART)\n",
        "\n",
        "optimizer = optim.Adam(filter(lambda p: p.requires_grad, nn_model.parameters()), \n",
        "                       LR)\n",
        "\n",
        "nn_model.train()\n",
        "nn_model = train(nn_model, criterion, optimizer, None, EPOCHS)"
      ],
      "execution_count": 0,
      "outputs": [
        {
          "output_type": "display_data",
          "data": {
            "text/html": [
              "\n",
              "                Logging results to <a href=\"https://wandb.com\" target=\"_blank\">Weights & Biases</a> <a href=\"https://docs.wandb.com/integrations/jupyter.html\" target=\"_blank\">(Documentation)</a>.<br/>\n",
              "                Project page: <a href=\"https://app.wandb.ai/gbarto/hse08_ip_hw_3\" target=\"_blank\">https://app.wandb.ai/gbarto/hse08_ip_hw_3</a><br/>\n",
              "                Run page: <a href=\"https://app.wandb.ai/gbarto/hse08_ip_hw_3/runs/6vwcw6c2\" target=\"_blank\">https://app.wandb.ai/gbarto/hse08_ip_hw_3/runs/6vwcw6c2</a><br/>\n",
              "            "
            ],
            "text/plain": [
              "<IPython.core.display.HTML object>"
            ]
          },
          "metadata": {
            "tags": []
          }
        },
        {
          "output_type": "display_data",
          "data": {
            "application/vnd.jupyter.widget-view+json": {
              "model_id": "e425b26f464b4c36b65c58d652ea76e4",
              "version_minor": 0,
              "version_major": 2
            },
            "text/plain": [
              "HBox(children=(IntProgress(value=0, max=50), HTML(value='')))"
            ]
          },
          "metadata": {
            "tags": []
          }
        }
      ]
    },
    {
      "cell_type": "code",
      "metadata": {
        "id": "m2yQVI_drf21",
        "colab_type": "code",
        "colab": {}
      },
      "source": [
        "MARGIN = 10.0\n",
        "PART = 0.01\n",
        "LR = 0.0001\n",
        "EPOCHS = 20\n",
        "\n",
        "criterion = AnsableTripletLoss(margin=MARGIN, part=PART)\n",
        "\n",
        "optimizer = optim.Adam(filter(lambda p: p.requires_grad, nn_model.parameters()), \n",
        "                       LR)\n",
        "\n",
        "nn_model = train(nn_model, criterion, optimizer, None, EPOCHS)"
      ],
      "execution_count": 0,
      "outputs": []
    },
    {
      "cell_type": "code",
      "metadata": {
        "id": "5Omr2hJm6orH",
        "colab_type": "code",
        "colab": {}
      },
      "source": [
        "nn_model.eval()\n",
        "\n",
        "centroids = get_centroids(nn_model, x_train, y_train)\n",
        "\n",
        "train_scores = [get_scores(nn_model, centroids, x) for x in tqdm(x_train)]\n",
        "val_scores = [get_scores(nn_model, centroids, x) for x in tqdm(x_val)]\n",
        "train_scores = np.stack(train_scores, axis=0)\n",
        "val_scores = np.stack(val_scores, axis=0)\n",
        "\n",
        "train_nn_accuracy = get_nn_accuracy(train_scores, y_train)\n",
        "val_nn_accuracy = get_nn_accuracy(val_scores, y_val)\n",
        "\n",
        "print(f'Train NN accuracy {train_nn_accuracy}')\n",
        "print(f'Val NN accuracy {val_nn_accuracy}')"
      ],
      "execution_count": 0,
      "outputs": []
    },
    {
      "cell_type": "code",
      "metadata": {
        "id": "6hJxlqvJlEyV",
        "colab_type": "code",
        "colab": {}
      },
      "source": [
        "images = []\n",
        "with zipfile.ZipFile(PATH_DATA, 'r') as zip_file:\n",
        "    image_names = [f[10:] for f in zip_file.namelist() if 'test' in f]\n",
        "\n",
        "    for name in image_names:\n",
        "        with zip_file.open(os.path.join('test', 'test', name)) as img_file:\n",
        "            image = Image.open(img_file).convert('RGB')\n",
        "        images += [(name, image)]\n",
        "\n",
        "predictions = {'filename': [], 'class_number': []}\n",
        "with torch.no_grad():\n",
        "    for name, image in tqdm(images):\n",
        "        scores = get_scores(nn_model, centroids, image)\n",
        "        y = get_predictions(np.expand_dims(scores, axis=0))[0]\n",
        "\n",
        "        predictions['filename'] += [name]\n",
        "        predictions['class_number'] += [y]\n",
        "\n",
        "predictions = pd.DataFrame(predictions)\n",
        "predictions.to_csv('test_neural.csv', index=False)"
      ],
      "execution_count": 0,
      "outputs": []
    }
  ]
}