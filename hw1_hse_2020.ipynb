{
  "nbformat": 4,
  "nbformat_minor": 0,
  "metadata": {
    "colab": {
      "name": "hw1_hse_2020.ipynb",
      "provenance": [],
      "toc_visible": true,
      "include_colab_link": true
    },
    "kernelspec": {
      "display_name": "Python [default]",
      "language": "python",
      "name": "python3"
    }
  },
  "cells": [
    {
      "cell_type": "markdown",
      "metadata": {
        "id": "view-in-github",
        "colab_type": "text"
      },
      "source": [
        "<a href=\"https://colab.research.google.com/github/GrigoryBartosh/hse08_ip/blob/master/hw1_hse_2020.ipynb\" target=\"_parent\"><img src=\"https://colab.research.google.com/assets/colab-badge.svg\" alt=\"Open In Colab\"/></a>"
      ]
    },
    {
      "cell_type": "markdown",
      "metadata": {
        "id": "DQ-AifC6n4mj",
        "colab_type": "text"
      },
      "source": [
        "# Домашнее задание №1\n",
        "\n",
        "\n",
        "Задание присылать на обе почты почты **aleksartamonov@gmail.com**  **dashkov.alexander.om@gmail.com** в виде ссылки на colab\n",
        "\n",
        "В теме письма указать ***HSE2020 HW1 <Фамилия Имя>***\n",
        "\n",
        "soft deadline: 02.02.2020T23:59:00+0300\n",
        "\n",
        "hard deadline: 09.02.2020T23:59:00+0300"
      ]
    },
    {
      "cell_type": "code",
      "metadata": {
        "id": "coX3fsq1oW-3",
        "colab_type": "code",
        "colab": {}
      },
      "source": [
        ""
      ],
      "execution_count": 0,
      "outputs": []
    },
    {
      "cell_type": "markdown",
      "metadata": {
        "id": "mdoy23MBn4mk",
        "colab_type": "text"
      },
      "source": [
        "## Теоретический блок"
      ]
    },
    {
      "cell_type": "markdown",
      "metadata": {
        "id": "i4v9mh0Xn4ml",
        "colab_type": "text"
      },
      "source": [
        "##### Задача 1 (3 балла)\n",
        "\n",
        "Когда Вы заходите в темную комнату из светлого помещения, то проходит некоторое время, прежде чем Вы станете видеть достаточно хорошо, чтобы различить очертания предметов. Какая из обсуждавшихся на лекции особенностей зрительного восприятия человека объясняет это явление? Какой процесс происходит в зрительной системе?"
      ]
    },
    {
      "cell_type": "markdown",
      "metadata": {
        "id": "9mp6qw3rn4mm",
        "colab_type": "text"
      },
      "source": [
        "\n",
        "\n",
        "> Indented block\n",
        "\n"
      ]
    },
    {
      "cell_type": "markdown",
      "metadata": {
        "id": "QYtfx-95n4mn",
        "colab_type": "text"
      },
      "source": [
        "##### Задача 2 (3 балла)\n",
        "\n",
        "Рассмотрим некоторое цветовое пространство $R_{new}G_{new}B_{new}$, получающееся из исходного RGB по правилу:\n",
        "\n",
        "$$\n",
        "R_{new} = a_{11}R+a_{12}G+a_{13}B+a_{14}\\\\\n",
        "G_{new} = a_{21}R+a_{22}G+a_{23}B+a_{24}\\\\\n",
        "B_{new} = a_{31}R+a_{32}G+a_{33}B+a_{34}\n",
        "$$\n",
        "\n",
        "где R, G и B – вещественные числа от 0 до 1. \n",
        "\n",
        "Какими свойствами должны обладать коэффициенты $a_{ij}$, чтобы можно было без потерь информации переходить из одного пространства в другое и обратно?\n",
        "(*) Какими свойствами должны обладать коэффициенты $a_{ij}$ , чтобы вещественные числа $R_{new},G_{new}$ и $B_{new}$ тоже лежали внутри куба со стороной 1 и полностью плотно его заполняли?"
      ]
    },
    {
      "cell_type": "markdown",
      "metadata": {
        "id": "skIBEKIen4mo",
        "colab_type": "text"
      },
      "source": [
        ""
      ]
    },
    {
      "cell_type": "markdown",
      "metadata": {
        "id": "rECeuEL7n4mo",
        "colab_type": "text"
      },
      "source": [
        "## Практический блок"
      ]
    },
    {
      "cell_type": "code",
      "metadata": {
        "id": "DhlVQCYBn4mp",
        "colab_type": "code",
        "colab": {}
      },
      "source": [
        "import cv2\n",
        "import matplotlib.pylab as plt\n",
        "%matplotlib inline\n",
        "\n",
        "import numpy as np"
      ],
      "execution_count": 0,
      "outputs": []
    },
    {
      "cell_type": "markdown",
      "metadata": {
        "id": "tLPuVH5-n4ms",
        "colab_type": "text"
      },
      "source": [
        "##### Задача 3 (3 балла)\n",
        "\n",
        "Загрузите изображение *lena.jpg* в переменную **lena**. Отобразите результат на экран."
      ]
    },
    {
      "cell_type": "code",
      "metadata": {
        "id": "jKltNKFfn4mt",
        "colab_type": "code",
        "colab": {}
      },
      "source": [
        "## your code here"
      ],
      "execution_count": 0,
      "outputs": []
    },
    {
      "cell_type": "code",
      "metadata": {
        "id": "_esPTiYepoOl",
        "colab_type": "code",
        "colab": {}
      },
      "source": [
        ""
      ],
      "execution_count": 0,
      "outputs": []
    },
    {
      "cell_type": "markdown",
      "metadata": {
        "id": "9Laho1Gin4mv",
        "colab_type": "text"
      },
      "source": [
        "##### Задача 4 (3 балла)\n",
        "\n",
        "Поменяйте местами левую верхнюю и правую нижнюю четвертинки изображения **lena** и отобразите результат на экран."
      ]
    },
    {
      "cell_type": "code",
      "metadata": {
        "id": "pT8v0KAZn4mw",
        "colab_type": "code",
        "colab": {}
      },
      "source": [
        "## your code here"
      ],
      "execution_count": 0,
      "outputs": []
    },
    {
      "cell_type": "markdown",
      "metadata": {
        "id": "1gyudAzln4mx",
        "colab_type": "text"
      },
      "source": [
        "##### Задача 5 (3 балла)\n",
        "\n",
        "Усредните значения всех трех цветовых каналов **lena** в каждый из каналов итогового изображения **lena_gray_my**."
      ]
    },
    {
      "cell_type": "code",
      "metadata": {
        "id": "fYY_w7L1n4mz",
        "colab_type": "code",
        "colab": {}
      },
      "source": [
        "## your code here"
      ],
      "execution_count": 0,
      "outputs": []
    },
    {
      "cell_type": "markdown",
      "metadata": {
        "id": "TwoYwTM-n4m1",
        "colab_type": "text"
      },
      "source": [
        "##### Задача 6 (3 балла)\n",
        "\n",
        "Переведите исходное цветное изображение **lena** в изображение в градациях серого с помощью функции cvtColor. (**lena_gray_cvt**). Вычислите модуль разности между изображениями **lena_gray_my** и **lena_gray_cvt** и отобразите ее на экране."
      ]
    },
    {
      "cell_type": "code",
      "metadata": {
        "id": "wpk72-kYn4m2",
        "colab_type": "code",
        "colab": {}
      },
      "source": [
        "## your code here"
      ],
      "execution_count": 0,
      "outputs": []
    },
    {
      "cell_type": "markdown",
      "metadata": {
        "id": "QzCKzpOwn4m4",
        "colab_type": "text"
      },
      "source": [
        "##### Задача 7 (3 балла)\n",
        "\n",
        "Переведите исходное изображение **lena** из RGB в HSV. Установите значения S и V в максимум для всех пикселей изображения. Полученное изображение переведите обратно в RGB. Отобразите результат."
      ]
    },
    {
      "cell_type": "code",
      "metadata": {
        "id": "i9kFi2b4n4m5",
        "colab_type": "code",
        "colab": {}
      },
      "source": [
        "## your code here"
      ],
      "execution_count": 0,
      "outputs": []
    },
    {
      "cell_type": "markdown",
      "metadata": {
        "id": "UvlBoZKKn4m8",
        "colab_type": "text"
      },
      "source": [
        "##### Задача 8 (3 балла)\n",
        "Переведите изображение **lena** в одно из цветовых пространств (cvtColor) с выделенной координатой яркости (HSV, HSL, HSB, CIE Lab), инвертируйте яркостную составляющую, переведите обратно в RGB. Отобразите результат."
      ]
    },
    {
      "cell_type": "code",
      "metadata": {
        "id": "wnXQsEIvn4m9",
        "colab_type": "code",
        "colab": {}
      },
      "source": [
        "## your code here"
      ],
      "execution_count": 0,
      "outputs": []
    },
    {
      "cell_type": "markdown",
      "metadata": {
        "id": "3LTVoQJxn4m_",
        "colab_type": "text"
      },
      "source": [
        "##### Задача 9 (3 балла)\n",
        "\n",
        "По цветному изображению **lena** на входе сгенерируйте 6 цветных изображений, полученных путем перестановки значений цветовых каналов r, g и b. исходного изображения. Соберите коллаж $3x2$ и отобразите его на экране. "
      ]
    },
    {
      "cell_type": "code",
      "metadata": {
        "id": "TPxCQFfSn4nA",
        "colab_type": "code",
        "colab": {}
      },
      "source": [
        "## your code here"
      ],
      "execution_count": 0,
      "outputs": []
    },
    {
      "cell_type": "markdown",
      "metadata": {
        "id": "j92o2IAEn4nC",
        "colab_type": "text"
      },
      "source": [
        "##### Задача 10 (3 балла)\n",
        "Переведите изображение **lena** из RGB в CIE Lab при помощи встроенной функции OpenCV. Загрузите исходное иображение еще раз и переведите из RGB в CIE Lab самостоятельно с помощью формул (google it). Сравните полученные изображения, построив разницу между ними. (Должен получится ~0)"
      ]
    },
    {
      "cell_type": "code",
      "metadata": {
        "id": "GNncV3Nrn4nC",
        "colab_type": "code",
        "colab": {}
      },
      "source": [
        "## your code here"
      ],
      "execution_count": 0,
      "outputs": []
    }
  ]
}