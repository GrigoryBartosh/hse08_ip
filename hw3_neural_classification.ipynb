{
  "nbformat": 4,
  "nbformat_minor": 0,
  "metadata": {
    "accelerator": "GPU",
    "colab": {
      "name": "hw32.ipynb",
      "provenance": [],
      "toc_visible": true,
      "include_colab_link": true
    },
    "kernelspec": {
      "name": "python3",
      "display_name": "Python 3"
    },
    "language_info": {
      "codemirror_mode": {
        "name": "ipython",
        "version": 3
      },
      "file_extension": ".py",
      "mimetype": "text/x-python",
      "name": "python",
      "nbconvert_exporter": "python",
      "pygments_lexer": "ipython3",
      "version": "3.6.6"
    },
    "widgets": {
      "application/vnd.jupyter.widget-state+json": {
        "02aecf892c11406da67e4fc401fc5c2b": {
          "model_module": "@jupyter-widgets/controls",
          "model_name": "HBoxModel",
          "state": {
            "_view_name": "HBoxView",
            "_dom_classes": [],
            "_model_name": "HBoxModel",
            "_view_module": "@jupyter-widgets/controls",
            "_model_module_version": "1.5.0",
            "_view_count": null,
            "_view_module_version": "1.5.0",
            "box_style": "",
            "layout": "IPY_MODEL_9c66ce6cc1184cf89bf48b7910696aae",
            "_model_module": "@jupyter-widgets/controls",
            "children": [
              "IPY_MODEL_8ab2496a10374e0ab3fa23c663c18516",
              "IPY_MODEL_966f6e4303fc42dfb675e9863e389491"
            ]
          }
        },
        "9c66ce6cc1184cf89bf48b7910696aae": {
          "model_module": "@jupyter-widgets/base",
          "model_name": "LayoutModel",
          "state": {
            "_view_name": "LayoutView",
            "grid_template_rows": null,
            "right": null,
            "justify_content": null,
            "_view_module": "@jupyter-widgets/base",
            "overflow": null,
            "_model_module_version": "1.2.0",
            "_view_count": null,
            "flex_flow": null,
            "width": null,
            "min_width": null,
            "border": null,
            "align_items": null,
            "bottom": null,
            "_model_module": "@jupyter-widgets/base",
            "top": null,
            "grid_column": null,
            "overflow_y": null,
            "overflow_x": null,
            "grid_auto_flow": null,
            "grid_area": null,
            "grid_template_columns": null,
            "flex": null,
            "_model_name": "LayoutModel",
            "justify_items": null,
            "grid_row": null,
            "max_height": null,
            "align_content": null,
            "visibility": null,
            "align_self": null,
            "height": null,
            "min_height": null,
            "padding": null,
            "grid_auto_rows": null,
            "grid_gap": null,
            "max_width": null,
            "order": null,
            "_view_module_version": "1.2.0",
            "grid_template_areas": null,
            "object_position": null,
            "object_fit": null,
            "grid_auto_columns": null,
            "margin": null,
            "display": null,
            "left": null
          }
        },
        "8ab2496a10374e0ab3fa23c663c18516": {
          "model_module": "@jupyter-widgets/controls",
          "model_name": "IntProgressModel",
          "state": {
            "_view_name": "ProgressView",
            "style": "IPY_MODEL_d64ac5f79c984336bbbb142502a7d86d",
            "_dom_classes": [],
            "description": "",
            "_model_name": "IntProgressModel",
            "bar_style": "success",
            "max": 1,
            "_view_module": "@jupyter-widgets/controls",
            "_model_module_version": "1.5.0",
            "value": 1,
            "_view_count": null,
            "_view_module_version": "1.5.0",
            "orientation": "horizontal",
            "min": 0,
            "description_tooltip": null,
            "_model_module": "@jupyter-widgets/controls",
            "layout": "IPY_MODEL_9452180899144ebe84a10f462fe04569"
          }
        },
        "966f6e4303fc42dfb675e9863e389491": {
          "model_module": "@jupyter-widgets/controls",
          "model_name": "HTMLModel",
          "state": {
            "_view_name": "HTMLView",
            "style": "IPY_MODEL_280cb38a935e4185a4872f5c84005155",
            "_dom_classes": [],
            "description": "",
            "_model_name": "HTMLModel",
            "placeholder": "​",
            "_view_module": "@jupyter-widgets/controls",
            "_model_module_version": "1.5.0",
            "value": "25432it [00:12, 2020.65it/s]",
            "_view_count": null,
            "_view_module_version": "1.5.0",
            "description_tooltip": null,
            "_model_module": "@jupyter-widgets/controls",
            "layout": "IPY_MODEL_03b905fcf49c4a23a2fd75f34658c06b"
          }
        },
        "d64ac5f79c984336bbbb142502a7d86d": {
          "model_module": "@jupyter-widgets/controls",
          "model_name": "ProgressStyleModel",
          "state": {
            "_view_name": "StyleView",
            "_model_name": "ProgressStyleModel",
            "description_width": "",
            "_view_module": "@jupyter-widgets/base",
            "_model_module_version": "1.5.0",
            "_view_count": null,
            "_view_module_version": "1.2.0",
            "bar_color": null,
            "_model_module": "@jupyter-widgets/controls"
          }
        },
        "9452180899144ebe84a10f462fe04569": {
          "model_module": "@jupyter-widgets/base",
          "model_name": "LayoutModel",
          "state": {
            "_view_name": "LayoutView",
            "grid_template_rows": null,
            "right": null,
            "justify_content": null,
            "_view_module": "@jupyter-widgets/base",
            "overflow": null,
            "_model_module_version": "1.2.0",
            "_view_count": null,
            "flex_flow": null,
            "width": null,
            "min_width": null,
            "border": null,
            "align_items": null,
            "bottom": null,
            "_model_module": "@jupyter-widgets/base",
            "top": null,
            "grid_column": null,
            "overflow_y": null,
            "overflow_x": null,
            "grid_auto_flow": null,
            "grid_area": null,
            "grid_template_columns": null,
            "flex": null,
            "_model_name": "LayoutModel",
            "justify_items": null,
            "grid_row": null,
            "max_height": null,
            "align_content": null,
            "visibility": null,
            "align_self": null,
            "height": null,
            "min_height": null,
            "padding": null,
            "grid_auto_rows": null,
            "grid_gap": null,
            "max_width": null,
            "order": null,
            "_view_module_version": "1.2.0",
            "grid_template_areas": null,
            "object_position": null,
            "object_fit": null,
            "grid_auto_columns": null,
            "margin": null,
            "display": null,
            "left": null
          }
        },
        "280cb38a935e4185a4872f5c84005155": {
          "model_module": "@jupyter-widgets/controls",
          "model_name": "DescriptionStyleModel",
          "state": {
            "_view_name": "StyleView",
            "_model_name": "DescriptionStyleModel",
            "description_width": "",
            "_view_module": "@jupyter-widgets/base",
            "_model_module_version": "1.5.0",
            "_view_count": null,
            "_view_module_version": "1.2.0",
            "_model_module": "@jupyter-widgets/controls"
          }
        },
        "03b905fcf49c4a23a2fd75f34658c06b": {
          "model_module": "@jupyter-widgets/base",
          "model_name": "LayoutModel",
          "state": {
            "_view_name": "LayoutView",
            "grid_template_rows": null,
            "right": null,
            "justify_content": null,
            "_view_module": "@jupyter-widgets/base",
            "overflow": null,
            "_model_module_version": "1.2.0",
            "_view_count": null,
            "flex_flow": null,
            "width": null,
            "min_width": null,
            "border": null,
            "align_items": null,
            "bottom": null,
            "_model_module": "@jupyter-widgets/base",
            "top": null,
            "grid_column": null,
            "overflow_y": null,
            "overflow_x": null,
            "grid_auto_flow": null,
            "grid_area": null,
            "grid_template_columns": null,
            "flex": null,
            "_model_name": "LayoutModel",
            "justify_items": null,
            "grid_row": null,
            "max_height": null,
            "align_content": null,
            "visibility": null,
            "align_self": null,
            "height": null,
            "min_height": null,
            "padding": null,
            "grid_auto_rows": null,
            "grid_gap": null,
            "max_width": null,
            "order": null,
            "_view_module_version": "1.2.0",
            "grid_template_areas": null,
            "object_position": null,
            "object_fit": null,
            "grid_auto_columns": null,
            "margin": null,
            "display": null,
            "left": null
          }
        },
        "af2ba0702fc54761b12f6342eb2b6d1b": {
          "model_module": "@jupyter-widgets/controls",
          "model_name": "HBoxModel",
          "state": {
            "_view_name": "HBoxView",
            "_dom_classes": [],
            "_model_name": "HBoxModel",
            "_view_module": "@jupyter-widgets/controls",
            "_model_module_version": "1.5.0",
            "_view_count": null,
            "_view_module_version": "1.5.0",
            "box_style": "",
            "layout": "IPY_MODEL_501d5cc0c8c54c7a8d70c6cf764de58c",
            "_model_module": "@jupyter-widgets/controls",
            "children": [
              "IPY_MODEL_325e04563b584ba7bc8c9df722563d1a",
              "IPY_MODEL_f3d9e6a83e2c45a4b773a84162fa3027"
            ]
          }
        },
        "501d5cc0c8c54c7a8d70c6cf764de58c": {
          "model_module": "@jupyter-widgets/base",
          "model_name": "LayoutModel",
          "state": {
            "_view_name": "LayoutView",
            "grid_template_rows": null,
            "right": null,
            "justify_content": null,
            "_view_module": "@jupyter-widgets/base",
            "overflow": null,
            "_model_module_version": "1.2.0",
            "_view_count": null,
            "flex_flow": null,
            "width": null,
            "min_width": null,
            "border": null,
            "align_items": null,
            "bottom": null,
            "_model_module": "@jupyter-widgets/base",
            "top": null,
            "grid_column": null,
            "overflow_y": null,
            "overflow_x": null,
            "grid_auto_flow": null,
            "grid_area": null,
            "grid_template_columns": null,
            "flex": null,
            "_model_name": "LayoutModel",
            "justify_items": null,
            "grid_row": null,
            "max_height": null,
            "align_content": null,
            "visibility": null,
            "align_self": null,
            "height": null,
            "min_height": null,
            "padding": null,
            "grid_auto_rows": null,
            "grid_gap": null,
            "max_width": null,
            "order": null,
            "_view_module_version": "1.2.0",
            "grid_template_areas": null,
            "object_position": null,
            "object_fit": null,
            "grid_auto_columns": null,
            "margin": null,
            "display": null,
            "left": null
          }
        },
        "325e04563b584ba7bc8c9df722563d1a": {
          "model_module": "@jupyter-widgets/controls",
          "model_name": "IntProgressModel",
          "state": {
            "_view_name": "ProgressView",
            "style": "IPY_MODEL_b1bb5d9b81d14c00864b0c4327a9bfbd",
            "_dom_classes": [],
            "description": "",
            "_model_name": "IntProgressModel",
            "bar_style": "success",
            "max": 4,
            "_view_module": "@jupyter-widgets/controls",
            "_model_module_version": "1.5.0",
            "value": 4,
            "_view_count": null,
            "_view_module_version": "1.5.0",
            "orientation": "horizontal",
            "min": 0,
            "description_tooltip": null,
            "_model_module": "@jupyter-widgets/controls",
            "layout": "IPY_MODEL_afe354f2323344a783c4b3c94dd99c53"
          }
        },
        "f3d9e6a83e2c45a4b773a84162fa3027": {
          "model_module": "@jupyter-widgets/controls",
          "model_name": "HTMLModel",
          "state": {
            "_view_name": "HTMLView",
            "style": "IPY_MODEL_7ceb8c72d01443ffb595019f5b55d877",
            "_dom_classes": [],
            "description": "",
            "_model_name": "HTMLModel",
            "placeholder": "​",
            "_view_module": "@jupyter-widgets/controls",
            "_model_module_version": "1.5.0",
            "value": "100% 4/4 [02:10&lt;00:00, 32.60s/it]",
            "_view_count": null,
            "_view_module_version": "1.5.0",
            "description_tooltip": null,
            "_model_module": "@jupyter-widgets/controls",
            "layout": "IPY_MODEL_fc54a3d252f6473098b90117a07e5b67"
          }
        },
        "b1bb5d9b81d14c00864b0c4327a9bfbd": {
          "model_module": "@jupyter-widgets/controls",
          "model_name": "ProgressStyleModel",
          "state": {
            "_view_name": "StyleView",
            "_model_name": "ProgressStyleModel",
            "description_width": "",
            "_view_module": "@jupyter-widgets/base",
            "_model_module_version": "1.5.0",
            "_view_count": null,
            "_view_module_version": "1.2.0",
            "bar_color": null,
            "_model_module": "@jupyter-widgets/controls"
          }
        },
        "afe354f2323344a783c4b3c94dd99c53": {
          "model_module": "@jupyter-widgets/base",
          "model_name": "LayoutModel",
          "state": {
            "_view_name": "LayoutView",
            "grid_template_rows": null,
            "right": null,
            "justify_content": null,
            "_view_module": "@jupyter-widgets/base",
            "overflow": null,
            "_model_module_version": "1.2.0",
            "_view_count": null,
            "flex_flow": null,
            "width": null,
            "min_width": null,
            "border": null,
            "align_items": null,
            "bottom": null,
            "_model_module": "@jupyter-widgets/base",
            "top": null,
            "grid_column": null,
            "overflow_y": null,
            "overflow_x": null,
            "grid_auto_flow": null,
            "grid_area": null,
            "grid_template_columns": null,
            "flex": null,
            "_model_name": "LayoutModel",
            "justify_items": null,
            "grid_row": null,
            "max_height": null,
            "align_content": null,
            "visibility": null,
            "align_self": null,
            "height": null,
            "min_height": null,
            "padding": null,
            "grid_auto_rows": null,
            "grid_gap": null,
            "max_width": null,
            "order": null,
            "_view_module_version": "1.2.0",
            "grid_template_areas": null,
            "object_position": null,
            "object_fit": null,
            "grid_auto_columns": null,
            "margin": null,
            "display": null,
            "left": null
          }
        },
        "7ceb8c72d01443ffb595019f5b55d877": {
          "model_module": "@jupyter-widgets/controls",
          "model_name": "DescriptionStyleModel",
          "state": {
            "_view_name": "StyleView",
            "_model_name": "DescriptionStyleModel",
            "description_width": "",
            "_view_module": "@jupyter-widgets/base",
            "_model_module_version": "1.5.0",
            "_view_count": null,
            "_view_module_version": "1.2.0",
            "_model_module": "@jupyter-widgets/controls"
          }
        },
        "fc54a3d252f6473098b90117a07e5b67": {
          "model_module": "@jupyter-widgets/base",
          "model_name": "LayoutModel",
          "state": {
            "_view_name": "LayoutView",
            "grid_template_rows": null,
            "right": null,
            "justify_content": null,
            "_view_module": "@jupyter-widgets/base",
            "overflow": null,
            "_model_module_version": "1.2.0",
            "_view_count": null,
            "flex_flow": null,
            "width": null,
            "min_width": null,
            "border": null,
            "align_items": null,
            "bottom": null,
            "_model_module": "@jupyter-widgets/base",
            "top": null,
            "grid_column": null,
            "overflow_y": null,
            "overflow_x": null,
            "grid_auto_flow": null,
            "grid_area": null,
            "grid_template_columns": null,
            "flex": null,
            "_model_name": "LayoutModel",
            "justify_items": null,
            "grid_row": null,
            "max_height": null,
            "align_content": null,
            "visibility": null,
            "align_self": null,
            "height": null,
            "min_height": null,
            "padding": null,
            "grid_auto_rows": null,
            "grid_gap": null,
            "max_width": null,
            "order": null,
            "_view_module_version": "1.2.0",
            "grid_template_areas": null,
            "object_position": null,
            "object_fit": null,
            "grid_auto_columns": null,
            "margin": null,
            "display": null,
            "left": null
          }
        },
        "1cd52ce078884512b24e916b713590f2": {
          "model_module": "@jupyter-widgets/controls",
          "model_name": "HBoxModel",
          "state": {
            "_view_name": "HBoxView",
            "_dom_classes": [],
            "_model_name": "HBoxModel",
            "_view_module": "@jupyter-widgets/controls",
            "_model_module_version": "1.5.0",
            "_view_count": null,
            "_view_module_version": "1.5.0",
            "box_style": "",
            "layout": "IPY_MODEL_ce75d56dd50441ed93a1e1b99c0bf716",
            "_model_module": "@jupyter-widgets/controls",
            "children": [
              "IPY_MODEL_6f2693bd763845a58c00ed088db42c29",
              "IPY_MODEL_e439dce429fd4bde9f23b193cd71c86a"
            ]
          }
        },
        "ce75d56dd50441ed93a1e1b99c0bf716": {
          "model_module": "@jupyter-widgets/base",
          "model_name": "LayoutModel",
          "state": {
            "_view_name": "LayoutView",
            "grid_template_rows": null,
            "right": null,
            "justify_content": null,
            "_view_module": "@jupyter-widgets/base",
            "overflow": null,
            "_model_module_version": "1.2.0",
            "_view_count": null,
            "flex_flow": null,
            "width": null,
            "min_width": null,
            "border": null,
            "align_items": null,
            "bottom": null,
            "_model_module": "@jupyter-widgets/base",
            "top": null,
            "grid_column": null,
            "overflow_y": null,
            "overflow_x": null,
            "grid_auto_flow": null,
            "grid_area": null,
            "grid_template_columns": null,
            "flex": null,
            "_model_name": "LayoutModel",
            "justify_items": null,
            "grid_row": null,
            "max_height": null,
            "align_content": null,
            "visibility": null,
            "align_self": null,
            "height": null,
            "min_height": null,
            "padding": null,
            "grid_auto_rows": null,
            "grid_gap": null,
            "max_width": null,
            "order": null,
            "_view_module_version": "1.2.0",
            "grid_template_areas": null,
            "object_position": null,
            "object_fit": null,
            "grid_auto_columns": null,
            "margin": null,
            "display": null,
            "left": null
          }
        },
        "6f2693bd763845a58c00ed088db42c29": {
          "model_module": "@jupyter-widgets/controls",
          "model_name": "IntProgressModel",
          "state": {
            "_view_name": "ProgressView",
            "style": "IPY_MODEL_fa9cc3555c1c4305842c10559915911f",
            "_dom_classes": [],
            "description": "",
            "_model_name": "IntProgressModel",
            "bar_style": "",
            "max": 40,
            "_view_module": "@jupyter-widgets/controls",
            "_model_module_version": "1.5.0",
            "value": 0,
            "_view_count": null,
            "_view_module_version": "1.5.0",
            "orientation": "horizontal",
            "min": 0,
            "description_tooltip": null,
            "_model_module": "@jupyter-widgets/controls",
            "layout": "IPY_MODEL_7493d069a61947afb58977fbdb346d1e"
          }
        },
        "e439dce429fd4bde9f23b193cd71c86a": {
          "model_module": "@jupyter-widgets/controls",
          "model_name": "HTMLModel",
          "state": {
            "_view_name": "HTMLView",
            "style": "IPY_MODEL_6fed803c5359406f81d0173ac619f263",
            "_dom_classes": [],
            "description": "",
            "_model_name": "HTMLModel",
            "placeholder": "​",
            "_view_module": "@jupyter-widgets/controls",
            "_model_module_version": "1.5.0",
            "value": "  0% 0/40 [00:00&lt;?, ?it/s]",
            "_view_count": null,
            "_view_module_version": "1.5.0",
            "description_tooltip": null,
            "_model_module": "@jupyter-widgets/controls",
            "layout": "IPY_MODEL_c6423a8e7aba48d4b9af65cf2b993d15"
          }
        },
        "fa9cc3555c1c4305842c10559915911f": {
          "model_module": "@jupyter-widgets/controls",
          "model_name": "ProgressStyleModel",
          "state": {
            "_view_name": "StyleView",
            "_model_name": "ProgressStyleModel",
            "description_width": "",
            "_view_module": "@jupyter-widgets/base",
            "_model_module_version": "1.5.0",
            "_view_count": null,
            "_view_module_version": "1.2.0",
            "bar_color": null,
            "_model_module": "@jupyter-widgets/controls"
          }
        },
        "7493d069a61947afb58977fbdb346d1e": {
          "model_module": "@jupyter-widgets/base",
          "model_name": "LayoutModel",
          "state": {
            "_view_name": "LayoutView",
            "grid_template_rows": null,
            "right": null,
            "justify_content": null,
            "_view_module": "@jupyter-widgets/base",
            "overflow": null,
            "_model_module_version": "1.2.0",
            "_view_count": null,
            "flex_flow": null,
            "width": null,
            "min_width": null,
            "border": null,
            "align_items": null,
            "bottom": null,
            "_model_module": "@jupyter-widgets/base",
            "top": null,
            "grid_column": null,
            "overflow_y": null,
            "overflow_x": null,
            "grid_auto_flow": null,
            "grid_area": null,
            "grid_template_columns": null,
            "flex": null,
            "_model_name": "LayoutModel",
            "justify_items": null,
            "grid_row": null,
            "max_height": null,
            "align_content": null,
            "visibility": null,
            "align_self": null,
            "height": null,
            "min_height": null,
            "padding": null,
            "grid_auto_rows": null,
            "grid_gap": null,
            "max_width": null,
            "order": null,
            "_view_module_version": "1.2.0",
            "grid_template_areas": null,
            "object_position": null,
            "object_fit": null,
            "grid_auto_columns": null,
            "margin": null,
            "display": null,
            "left": null
          }
        },
        "6fed803c5359406f81d0173ac619f263": {
          "model_module": "@jupyter-widgets/controls",
          "model_name": "DescriptionStyleModel",
          "state": {
            "_view_name": "StyleView",
            "_model_name": "DescriptionStyleModel",
            "description_width": "",
            "_view_module": "@jupyter-widgets/base",
            "_model_module_version": "1.5.0",
            "_view_count": null,
            "_view_module_version": "1.2.0",
            "_model_module": "@jupyter-widgets/controls"
          }
        },
        "c6423a8e7aba48d4b9af65cf2b993d15": {
          "model_module": "@jupyter-widgets/base",
          "model_name": "LayoutModel",
          "state": {
            "_view_name": "LayoutView",
            "grid_template_rows": null,
            "right": null,
            "justify_content": null,
            "_view_module": "@jupyter-widgets/base",
            "overflow": null,
            "_model_module_version": "1.2.0",
            "_view_count": null,
            "flex_flow": null,
            "width": null,
            "min_width": null,
            "border": null,
            "align_items": null,
            "bottom": null,
            "_model_module": "@jupyter-widgets/base",
            "top": null,
            "grid_column": null,
            "overflow_y": null,
            "overflow_x": null,
            "grid_auto_flow": null,
            "grid_area": null,
            "grid_template_columns": null,
            "flex": null,
            "_model_name": "LayoutModel",
            "justify_items": null,
            "grid_row": null,
            "max_height": null,
            "align_content": null,
            "visibility": null,
            "align_self": null,
            "height": null,
            "min_height": null,
            "padding": null,
            "grid_auto_rows": null,
            "grid_gap": null,
            "max_width": null,
            "order": null,
            "_view_module_version": "1.2.0",
            "grid_template_areas": null,
            "object_position": null,
            "object_fit": null,
            "grid_auto_columns": null,
            "margin": null,
            "display": null,
            "left": null
          }
        }
      }
    }
  },
  "cells": [
    {
      "cell_type": "markdown",
      "metadata": {
        "id": "view-in-github",
        "colab_type": "text"
      },
      "source": [
        "<a href=\"https://colab.research.google.com/github/GrigoryBartosh/hse08_ip/blob/master/hw3_neural_classification.ipynb\" target=\"_parent\"><img src=\"https://colab.research.google.com/assets/colab-badge.svg\" alt=\"Open In Colab\"/></a>"
      ]
    },
    {
      "cell_type": "code",
      "metadata": {
        "id": "-zSgN3JaUqtt",
        "colab_type": "code",
        "outputId": "1a1625e8-58be-4b8d-9b20-2e19bc0ca747",
        "colab": {
          "base_uri": "https://localhost:8080/",
          "height": 35
        }
      },
      "source": [
        "from google.colab import drive\n",
        "drive.mount('/content/drive')"
      ],
      "execution_count": 1,
      "outputs": [
        {
          "output_type": "stream",
          "text": [
            "Drive already mounted at /content/drive; to attempt to forcibly remount, call drive.mount(\"/content/drive\", force_remount=True).\n"
          ],
          "name": "stdout"
        }
      ]
    },
    {
      "cell_type": "code",
      "metadata": {
        "id": "Xeq-J61DMoYf",
        "colab_type": "code",
        "outputId": "533c7c58-dbeb-4461-fc1b-1339d911cd9e",
        "colab": {
          "base_uri": "https://localhost:8080/",
          "height": 35
        }
      },
      "source": [
        "cd 'drive/My Drive/ip_hw_3'"
      ],
      "execution_count": 2,
      "outputs": [
        {
          "output_type": "stream",
          "text": [
            "/content/drive/My Drive/ip_hw_3\n"
          ],
          "name": "stdout"
        }
      ]
    },
    {
      "cell_type": "code",
      "metadata": {
        "id": "ybArQ57lhUTA",
        "colab_type": "code",
        "colab": {}
      },
      "source": [
        "! pip install wandb >> /dev/null"
      ],
      "execution_count": 0,
      "outputs": []
    },
    {
      "cell_type": "code",
      "metadata": {
        "colab_type": "code",
        "id": "qRxFFBmUmhr1",
        "colab": {}
      },
      "source": [
        "import os\n",
        "import copy\n",
        "import zipfile\n",
        "import pandas as pd\n",
        "\n",
        "import numpy as np\n",
        "from sklearn.model_selection import train_test_split\n",
        "\n",
        "import torch\n",
        "import torch.nn as nn\n",
        "import torch.optim as optim\n",
        "import torch.utils.data as data\n",
        "import torch.nn.functional as F\n",
        "from torchvision import models\n",
        "from torchvision import transforms\n",
        "\n",
        "from PIL import Image\n",
        "\n",
        "import wandb\n",
        "\n",
        "from tqdm.auto import tqdm, trange\n",
        "import matplotlib.pyplot as plt\n",
        "import matplotlib.cm as cm\n",
        "\n",
        "PATH_DATA = 'tl-signs-hse-itmo-2020-winter.zip'\n",
        "\n",
        "device = torch.device('cuda:0' if torch.cuda.is_available() else 'cpu')\n",
        "\n",
        "BATCH_SIZE = 256"
      ],
      "execution_count": 0,
      "outputs": []
    },
    {
      "cell_type": "code",
      "metadata": {
        "colab_type": "code",
        "id": "7jId6n6smhr5",
        "outputId": "3c318874-2596-439b-d3b3-8332659d4e5f",
        "colab": {
          "base_uri": "https://localhost:8080/",
          "height": 67,
          "referenced_widgets": [
            "02aecf892c11406da67e4fc401fc5c2b",
            "9c66ce6cc1184cf89bf48b7910696aae",
            "8ab2496a10374e0ab3fa23c663c18516",
            "966f6e4303fc42dfb675e9863e389491",
            "d64ac5f79c984336bbbb142502a7d86d",
            "9452180899144ebe84a10f462fe04569",
            "280cb38a935e4185a4872f5c84005155",
            "03b905fcf49c4a23a2fd75f34658c06b"
          ]
        }
      },
      "source": [
        "xs, ys = [], []\n",
        "with zipfile.ZipFile(PATH_DATA, 'r') as zip_file:\n",
        "    with zip_file.open('train.csv') as file:\n",
        "        train_data = pd.read_csv(file)\n",
        "\n",
        "    for _, x in tqdm(train_data.iterrows()):\n",
        "        name, lable = x['filename'], x['class_number']\n",
        "        with zip_file.open(os.path.join('train', 'train', name)) as img_file:\n",
        "            image = Image.open(img_file).convert('RGB')\n",
        "        xs += [image]\n",
        "        ys += [lable]\n",
        "\n",
        "num_classes = max(ys) + 1\n",
        "\n",
        "x_train, x_val, y_train, y_val = train_test_split(xs, ys, test_size=0.45)"
      ],
      "execution_count": 5,
      "outputs": [
        {
          "output_type": "display_data",
          "data": {
            "application/vnd.jupyter.widget-view+json": {
              "model_id": "02aecf892c11406da67e4fc401fc5c2b",
              "version_minor": 0,
              "version_major": 2
            },
            "text/plain": [
              "HBox(children=(IntProgress(value=1, bar_style='info', max=1), HTML(value='')))"
            ]
          },
          "metadata": {
            "tags": []
          }
        },
        {
          "output_type": "stream",
          "text": [
            "\n"
          ],
          "name": "stdout"
        }
      ]
    },
    {
      "cell_type": "code",
      "metadata": {
        "id": "3T4IFi7qkxxF",
        "colab_type": "code",
        "colab": {}
      },
      "source": [
        "class SiamDataset(data.Dataset):\n",
        "    def __init__(self, xs, ys, do_aug=False):\n",
        "        self.xs = xs\n",
        "        self.ys = ys\n",
        "        self.do_aug = do_aug\n",
        "\n",
        "    def aug(self, x):\n",
        "        PF, PT = 0.2, 0.6\n",
        "\n",
        "        x = x.copy()\n",
        "        w, h, _ = x.shape\n",
        "        dx = np.random.randint(int(w * (PT - PF))) + int(w * PF)\n",
        "        dy = np.random.randint(int(h * (PT - PF))) + int(h * PF)\n",
        "        x1 = np.random.randint(w - dx)\n",
        "        y1 = np.random.randint(h - dy)\n",
        "        x2, y2 = x1 + dx, y1 + dy\n",
        "        x[x1:x2, y1:y2] = 0\n",
        "\n",
        "        return x\n",
        "\n",
        "    def __getitem__(self, index):\n",
        "        x = self.xs[index]\n",
        "        y = self.ys[index]\n",
        "\n",
        "        x = np.array(x)\n",
        "        x = self.aug(x) if self.do_aug else x\n",
        "        x = torch.FloatTensor(x)\n",
        "\n",
        "        y = torch.LongTensor([y])\n",
        "\n",
        "        return x, y\n",
        "\n",
        "    def __len__(self):\n",
        "        return len(self.xs)"
      ],
      "execution_count": 0,
      "outputs": []
    },
    {
      "cell_type": "code",
      "metadata": {
        "colab_type": "code",
        "id": "4VFGYLJFmhr8",
        "colab": {}
      },
      "source": [
        "def collate_xs(xs):\n",
        "    xs = torch.stack(xs, axis=0)\n",
        "    xs = xs * 2 / 255 - 1\n",
        "    xs = xs.permute(0, 3, 1, 2)\n",
        "\n",
        "    return xs\n",
        "\n",
        "def collate_fn(data):\n",
        "    xs, ys = zip(*data)\n",
        "    \n",
        "    xs = collate_xs(xs)\n",
        "    ys = torch.cat(ys)\n",
        "\n",
        "    return xs, ys\n",
        "\n",
        "train_dataset = SiamDataset(x_train, y_train, do_aug=True)\n",
        "val_dataset = SiamDataset(x_val, y_val, do_aug=False)\n",
        "\n",
        "train_data_loader = data.DataLoader(\n",
        "    dataset=train_dataset,\n",
        "    batch_size=BATCH_SIZE,\n",
        "    shuffle=True,\n",
        "    num_workers=8,\n",
        "    collate_fn=collate_fn\n",
        ")\n",
        "val_data_loader = data.DataLoader(\n",
        "    dataset=val_dataset,\n",
        "    batch_size=BATCH_SIZE,\n",
        "    shuffle=False,\n",
        "    num_workers=8,\n",
        "    collate_fn=collate_fn\n",
        ")"
      ],
      "execution_count": 0,
      "outputs": []
    },
    {
      "cell_type": "code",
      "metadata": {
        "colab_type": "code",
        "id": "zAWlIByBmhsB",
        "colab": {}
      },
      "source": [
        "def conv3x3(in_planes, out_planes, stride=1, padding=1):\n",
        "    return nn.Conv2d(in_planes, out_planes, 3, \n",
        "                     stride, padding, bias=False)\n",
        "    \n",
        "\n",
        "def conv1x1(in_planes, out_planes, stride=1):\n",
        "    return nn.Conv2d(in_planes, out_planes, 1, \n",
        "                     stride, padding=0, bias=False)\n",
        "\n",
        "\n",
        "class SimpleBlock(nn.Module):\n",
        "    def __init__(self, in_planes, out_planes=None, stride=1):\n",
        "        super(SimpleBlock, self).__init__()\n",
        "\n",
        "        if out_planes is None:\n",
        "            out_planes = in_planes\n",
        "\n",
        "        self.activ = nn.ReLU()\n",
        "\n",
        "        self.conv1 = conv3x3(in_planes, out_planes, stride)\n",
        "        self.ln1 = nn.BatchNorm2d(out_planes)\n",
        "\n",
        "    def forward(self, x):\n",
        "        out = self.conv1(x)\n",
        "        out = self.ln1(out)\n",
        "        out = self.activ(out)\n",
        "\n",
        "        return out\n",
        "\n",
        "\n",
        "class ResBasicBlock(nn.Module):\n",
        "    def __init__(self, in_planes, out_planes=None, stride=1):\n",
        "        super(ResBasicBlock, self).__init__()\n",
        "\n",
        "        planes = in_planes\n",
        "\n",
        "        if out_planes is None:\n",
        "            out_planes = planes\n",
        "\n",
        "        self.residual_conv = None\n",
        "        if stride != 1 or in_planes != out_planes:\n",
        "            self.residual_conv = conv1x1(in_planes, out_planes, stride)\n",
        "            self.residual_ln = nn.BatchNorm2d(out_planes)\n",
        "\n",
        "        self.activ = nn.ReLU()\n",
        "\n",
        "        self.conv1 = conv3x3(in_planes, planes, stride)\n",
        "        self.ln1 = nn.BatchNorm2d(planes)\n",
        "        self.conv2 = conv3x3(planes, out_planes)\n",
        "        self.ln2 = nn.BatchNorm2d(out_planes)\n",
        "\n",
        "    def forward(self, x):\n",
        "        identity = x\n",
        "\n",
        "        out = self.conv1(x)\n",
        "        out = self.ln1(out)\n",
        "        out = self.activ(out)\n",
        "\n",
        "        out = self.conv2(out)\n",
        "        out = self.ln2(out)\n",
        "\n",
        "        if self.residual_conv is not None:\n",
        "            identity = self.residual_conv(identity)\n",
        "            identity = self.residual_ln(identity)\n",
        "\n",
        "        out += identity\n",
        "        out = self.activ(out)\n",
        "\n",
        "        return out\n",
        "\n",
        "\n",
        "class MyNet(nn.Module):\n",
        "    def __init__(self, num_classes, in_dim=32):\n",
        "        super(MyNet, self).__init__()\n",
        "\n",
        "        self.embed_dim = in_dim * 2 ** 4\n",
        "\n",
        "        self.model = [SimpleBlock(3, in_dim, 2)]\n",
        "        for _ in range(3):\n",
        "            self.model += [ResBasicBlock(in_dim, in_dim * 2, 2),\n",
        "                           ResBasicBlock(in_dim * 2, in_dim * 2)]\n",
        "            in_dim = in_dim * 2\n",
        "        self.model += [conv3x3(in_dim, self.embed_dim, padding=0)]\n",
        "        self.model = nn.Sequential(*self.model)\n",
        "\n",
        "        self.linear = nn.Linear(self.embed_dim, num_classes)\n",
        "                 \n",
        "    def forward(self, x):\n",
        "        x = self.model(x)\n",
        "        x = x.squeeze(dim=2)\n",
        "        x = x.squeeze(dim=2)\n",
        "        x = self.linear(x)\n",
        "        return x\n",
        "\n",
        "\n",
        "class MyResNet(nn.Module):\n",
        "    def __init__(self, num_classes, model='resnet18', pretrained=False):\n",
        "        super(MyResNet, self).__init__()\n",
        "                 \n",
        "        if model == 'resnet18':\n",
        "            model_type = models.resnet18\n",
        "        elif model == 'resnet34':\n",
        "            model_type = models.resnet34\n",
        "        elif model == 'resnet50':\n",
        "            model_type = models.resnet50\n",
        "        elif model == 'resnet101':\n",
        "            model_type = models.resnet101\n",
        "        elif model == 'resnet152':\n",
        "            model_type = models.resnet152\n",
        "\n",
        "        self.model = model_type(pretrained=pretrained)\n",
        "        \n",
        "        if pretrained:\n",
        "            for parma in self.model.parameters():\n",
        "                parma.requires_grad = False\n",
        "\n",
        "        num_ftrs = self.model.fc.in_features\n",
        "        self.model.fc = nn.Linear(num_ftrs, num_classes)\n",
        "                 \n",
        "    def forward(self, x):\n",
        "        return self.model(x)\n",
        "\n",
        "\n",
        "class MyVGG(nn.Module):\n",
        "    def __init__(self, num_classes, model='vgg11', pretrained=False):\n",
        "        super(MyVGG, self).__init__()\n",
        "                 \n",
        "        if model == 'vgg11':\n",
        "            model_type = models.vgg11_bn\n",
        "        elif model == 'vgg16':\n",
        "            model_type = models.vgg16_bn\n",
        "        elif model == 'vgg19':\n",
        "            model_type = models.vgg19_bn\n",
        "\n",
        "        self.model = model_type(pretrained=pretrained)\n",
        "        \n",
        "        if pretrained:\n",
        "            for parma in self.model.parameters():\n",
        "                parma.requires_grad = False\n",
        "\n",
        "        num_ftrs = self.model.classifier[6].in_features\n",
        "        self.model.classifier[6] = nn.Linear(num_ftrs, num_classes)\n",
        "                 \n",
        "    def forward(self, x):\n",
        "        return self.model(x)\n",
        "\n",
        "\n",
        "class MyDense(nn.Module):\n",
        "    def __init__(self, num_classes, model='densenet121', pretrained=False):\n",
        "        super(MyDense, self).__init__()\n",
        "                 \n",
        "        if model == 'densenet121':\n",
        "            model_type = models.densenet121\n",
        "        elif model == 'densenet161':\n",
        "            model_type = models.densenet161\n",
        "        elif model == 'densenet169':\n",
        "            model_type = models.densenet169\n",
        "        elif model == 'densenet201':\n",
        "            model_type = models.densenet201\n",
        "\n",
        "        self.model = model_type(pretrained=pretrained)\n",
        "        \n",
        "        if pretrained:\n",
        "            for parma in self.model.parameters():\n",
        "                parma.requires_grad = False\n",
        "\n",
        "        num_ftrs = self.model.classifier.in_features\n",
        "        self.model.classifier = nn.Linear(num_ftrs, num_classes)\n",
        "                 \n",
        "    def forward(self, x):\n",
        "        return self.model(x)\n",
        "\n",
        "\n",
        "class AnsambleModel(nn.Module):\n",
        "    def __init__(self, num_classes):\n",
        "        super(AnsambleModel, self).__init__()\n",
        "\n",
        "        self.models = nn.ModuleList([\n",
        "            MyNet(num_classes, in_dim=32),\n",
        "            MyResNet(num_classes, model='resnet34', pretrained=True),\n",
        "            MyResNet(num_classes, model='resnet50', pretrained=True),\n",
        "            #MyVGG(num_classes, model='vgg16', pretrained=True),\n",
        "            MyDense(num_classes, model='densenet121', pretrained=True),\n",
        "            MyDense(num_classes, model='densenet161', pretrained=True)\n",
        "        ])\n",
        "\n",
        "    def forward(self, x):\n",
        "        x = [m(x) for m in self.models]\n",
        "        x = torch.stack(x, axis=0)\n",
        "        return x"
      ],
      "execution_count": 0,
      "outputs": []
    },
    {
      "cell_type": "code",
      "metadata": {
        "id": "xclKdg5Rbdey",
        "colab_type": "code",
        "colab": {}
      },
      "source": [
        "class AnsableCEL(nn.Module):\n",
        "    def __init__(self, margin=1.0, p=2, part=1.0):\n",
        "        super(AnsableCEL, self).__init__()\n",
        "\n",
        "        self.criterion = nn.CrossEntropyLoss()\n",
        "\n",
        "    def forward(self, xs, ys):\n",
        "        losses = []\n",
        "        for x in xs:\n",
        "            losses += [self.criterion(x, ys)]\n",
        "        losses = torch.stack(losses)\n",
        "        loss = losses.sum()\n",
        "        return loss"
      ],
      "execution_count": 0,
      "outputs": []
    },
    {
      "cell_type": "code",
      "metadata": {
        "colab_type": "code",
        "id": "wJTRcl1cmhsP",
        "colab": {}
      },
      "source": [
        "def train(model, criterion, optimizer, scheduler, epochs):\n",
        "    wandb.init(project=\"hse08_ip_hw_3\")\n",
        "\n",
        "    best_model = [copy.deepcopy(m) for m in model.models]\n",
        "    best_accuracy = [0 for _ in model.models]\n",
        "    for _ in trange(epochs):\n",
        "        for xs, ys in train_data_loader:\n",
        "            xs = xs.to(device)\n",
        "            ys = ys.to(device)\n",
        "            \n",
        "            optimizer.zero_grad()\n",
        "\n",
        "            outputs = model(xs)\n",
        "            loss = criterion(outputs, ys)\n",
        "\n",
        "            wandb.log({'Train loss': loss.item()})\n",
        "\n",
        "            loss.backward()\n",
        "            optimizer.step()\n",
        "\n",
        "        losses = []\n",
        "        accuracy = [(0, 0) for _ in model.models]\n",
        "        model.eval()\n",
        "        with torch.no_grad():\n",
        "            for xs, ys in val_data_loader:\n",
        "                xs = xs.to(device)\n",
        "                ys = ys.to(device)\n",
        "\n",
        "                outputs = model(xs)\n",
        "                loss = criterion(outputs, ys)\n",
        "                for i, out in enumerate(outputs):\n",
        "                    true_detections = (ys == out.argmax(axis=1)).sum().item()\n",
        "                    accuracy[i] = (accuracy[i][0] + true_detections,\n",
        "                                   accuracy[i][1] + ys.shape[0])\n",
        "                \n",
        "                losses += [loss.item()]\n",
        "            \n",
        "        model.train()\n",
        "\n",
        "        loss = np.array(losses).mean()\n",
        "        wandb.log({'Val loss': loss})\n",
        "        for i, (acs, ss) in enumerate(accuracy):\n",
        "            ac = acs / ss\n",
        "            wandb.log({f'Accuracy {i + 1}': ac})\n",
        "            \n",
        "            if best_accuracy[i] < ac:\n",
        "                best_accuracy[i] = ac\n",
        "                best_model[i] = copy.deepcopy(model.models[i])\n",
        "        \n",
        "        if scheduler:\n",
        "            scheduler.step()\n",
        "\n",
        "    for i, m in enumerate(best_model):\n",
        "        model.models[i] = m\n",
        "\n",
        "    return model"
      ],
      "execution_count": 0,
      "outputs": []
    },
    {
      "cell_type": "code",
      "metadata": {
        "colab_type": "code",
        "id": "oyOG67L1O8jP",
        "colab": {}
      },
      "source": [
        "def get_scores_for_one(model, xs):\n",
        "    scores = []\n",
        "    with torch.no_grad():\n",
        "        for i in range(0, len(xs), BATCH_SIZE):\n",
        "            j = min(i + BATCH_SIZE, len(xs))\n",
        "            batch_xs = xs[i:j]\n",
        "\n",
        "            batch_xs = [torch.FloatTensor(np.array(x)) for x in batch_xs]\n",
        "            batch_xs = collate_xs(batch_xs)\n",
        "            batch_xs = batch_xs.to(device)\n",
        "\n",
        "            batch_scores = model(batch_xs).reshape(j - i, -1)\n",
        "            batch_scores = F.softmax(batch_scores, dim=-1)\n",
        "            batch_scores = batch_scores.cpu().numpy()\n",
        "            \n",
        "            scores += [batch_scores]\n",
        "\n",
        "    scores = np.concatenate(scores, axis=0)\n",
        "\n",
        "    return scores\n",
        "\n",
        "def get_scores(model, xs):\n",
        "    scores = [get_scores_for_one(m, xs) for m in model.models]\n",
        "    scores = np.stack(scores, axis=1)\n",
        "    return scores"
      ],
      "execution_count": 0,
      "outputs": []
    },
    {
      "cell_type": "code",
      "metadata": {
        "id": "NrtiPRRgLowV",
        "colab_type": "code",
        "colab": {}
      },
      "source": [
        "def get_predictions(scores, f):\n",
        "    if f == 'mean':\n",
        "        ys = scores.mean(axis=1).argmax(axis=1)\n",
        "    elif f == 'vote':\n",
        "        ys = scores.argmax(axis=2)\n",
        "        ys = [np.bincount(y).argmax() for y in ys]\n",
        "        ys = np.stack(ys, axis=0)\n",
        "\n",
        "    return ys"
      ],
      "execution_count": 0,
      "outputs": []
    },
    {
      "cell_type": "code",
      "metadata": {
        "id": "nljJt5Yp5eo1",
        "colab_type": "code",
        "colab": {}
      },
      "source": [
        "def get_nn_accuracy(scores, ys, f):\n",
        "    ys_predicted = get_predictions(scores, f)\n",
        "    return (ys_predicted == ys).sum() / len(ys)"
      ],
      "execution_count": 0,
      "outputs": []
    },
    {
      "cell_type": "code",
      "metadata": {
        "id": "h-2gswDpcPta",
        "colab_type": "code",
        "colab": {}
      },
      "source": [
        "nn_model = AnsambleModel(num_classes=67)\n",
        "nn_model.to(device)\n",
        "\n",
        "criterion = AnsableCEL()"
      ],
      "execution_count": 0,
      "outputs": []
    },
    {
      "cell_type": "code",
      "metadata": {
        "colab_type": "code",
        "id": "gkfQcIe8mhsV",
        "outputId": "3a3960e9-a427-40d4-a1a1-0ca38ecd9e1b",
        "colab": {
          "base_uri": "https://localhost:8080/",
          "height": 118,
          "referenced_widgets": [
            "af2ba0702fc54761b12f6342eb2b6d1b",
            "501d5cc0c8c54c7a8d70c6cf764de58c",
            "325e04563b584ba7bc8c9df722563d1a",
            "f3d9e6a83e2c45a4b773a84162fa3027",
            "b1bb5d9b81d14c00864b0c4327a9bfbd",
            "afe354f2323344a783c4b3c94dd99c53",
            "7ceb8c72d01443ffb595019f5b55d877",
            "fc54a3d252f6473098b90117a07e5b67"
          ]
        }
      },
      "source": [
        "LR = 0.001\n",
        "EPOCHS = 4\n",
        "\n",
        "optimizer = optim.Adam(filter(lambda p: p.requires_grad, nn_model.parameters()), \n",
        "                       LR)\n",
        "\n",
        "nn_model.train()\n",
        "nn_model = train(nn_model, criterion, optimizer, None, EPOCHS)"
      ],
      "execution_count": 15,
      "outputs": [
        {
          "output_type": "display_data",
          "data": {
            "text/html": [
              "\n",
              "                Logging results to <a href=\"https://wandb.com\" target=\"_blank\">Weights & Biases</a> <a href=\"https://docs.wandb.com/integrations/jupyter.html\" target=\"_blank\">(Documentation)</a>.<br/>\n",
              "                Project page: <a href=\"https://app.wandb.ai/gbarto/hse08_ip_hw_3\" target=\"_blank\">https://app.wandb.ai/gbarto/hse08_ip_hw_3</a><br/>\n",
              "                Run page: <a href=\"https://app.wandb.ai/gbarto/hse08_ip_hw_3/runs/o4gsc2wp\" target=\"_blank\">https://app.wandb.ai/gbarto/hse08_ip_hw_3/runs/o4gsc2wp</a><br/>\n",
              "            "
            ],
            "text/plain": [
              "<IPython.core.display.HTML object>"
            ]
          },
          "metadata": {
            "tags": []
          }
        },
        {
          "output_type": "display_data",
          "data": {
            "application/vnd.jupyter.widget-view+json": {
              "model_id": "af2ba0702fc54761b12f6342eb2b6d1b",
              "version_minor": 0,
              "version_major": 2
            },
            "text/plain": [
              "HBox(children=(IntProgress(value=0, max=4), HTML(value='')))"
            ]
          },
          "metadata": {
            "tags": []
          }
        },
        {
          "output_type": "stream",
          "text": [
            "\n"
          ],
          "name": "stdout"
        }
      ]
    },
    {
      "cell_type": "code",
      "metadata": {
        "id": "m2yQVI_drf21",
        "colab_type": "code",
        "colab": {
          "base_uri": "https://localhost:8080/",
          "height": 100,
          "referenced_widgets": [
            "1cd52ce078884512b24e916b713590f2",
            "ce75d56dd50441ed93a1e1b99c0bf716",
            "6f2693bd763845a58c00ed088db42c29",
            "e439dce429fd4bde9f23b193cd71c86a",
            "fa9cc3555c1c4305842c10559915911f",
            "7493d069a61947afb58977fbdb346d1e",
            "6fed803c5359406f81d0173ac619f263",
            "c6423a8e7aba48d4b9af65cf2b993d15"
          ]
        },
        "outputId": "6e529a4f-c2af-4d43-a298-26c5c6397675"
      },
      "source": [
        "LR = 0.0001\n",
        "EPOCHS = 40\n",
        "\n",
        "for parma in nn_model.parameters():\n",
        "    parma.requires_grad = True\n",
        "\n",
        "optimizer = optim.Adam(filter(lambda p: p.requires_grad, nn_model.parameters()), \n",
        "                       LR)\n",
        "\n",
        "nn_model.train()\n",
        "nn_model = train(nn_model, criterion, optimizer, None, EPOCHS)"
      ],
      "execution_count": 0,
      "outputs": [
        {
          "output_type": "display_data",
          "data": {
            "text/html": [
              "\n",
              "                Logging results to <a href=\"https://wandb.com\" target=\"_blank\">Weights & Biases</a> <a href=\"https://docs.wandb.com/integrations/jupyter.html\" target=\"_blank\">(Documentation)</a>.<br/>\n",
              "                Project page: <a href=\"https://app.wandb.ai/gbarto/hse08_ip_hw_3\" target=\"_blank\">https://app.wandb.ai/gbarto/hse08_ip_hw_3</a><br/>\n",
              "                Run page: <a href=\"https://app.wandb.ai/gbarto/hse08_ip_hw_3/runs/mv9g046l\" target=\"_blank\">https://app.wandb.ai/gbarto/hse08_ip_hw_3/runs/mv9g046l</a><br/>\n",
              "            "
            ],
            "text/plain": [
              "<IPython.core.display.HTML object>"
            ]
          },
          "metadata": {
            "tags": []
          }
        },
        {
          "output_type": "display_data",
          "data": {
            "application/vnd.jupyter.widget-view+json": {
              "model_id": "1cd52ce078884512b24e916b713590f2",
              "version_minor": 0,
              "version_major": 2
            },
            "text/plain": [
              "HBox(children=(IntProgress(value=0, max=40), HTML(value='')))"
            ]
          },
          "metadata": {
            "tags": []
          }
        }
      ]
    },
    {
      "cell_type": "code",
      "metadata": {
        "id": "e894DlqSDTDe",
        "colab_type": "code",
        "colab": {}
      },
      "source": [
        "nn_model.eval()\n",
        "\n",
        "train_scores = get_scores(nn_model, x_train)\n",
        "val_scores = get_scores(nn_model, x_val)\n",
        "\n",
        "train_nn_accuracy = get_nn_accuracy(train_scores, y_train, f='vote')\n",
        "val_nn_accuracy = get_nn_accuracy(val_scores, y_val, f='vote')\n",
        "\n",
        "print(f'Train NN accuracy vote {train_nn_accuracy}')\n",
        "print(f'Val NN accuracy vote {val_nn_accuracy}')\n",
        "\n",
        "train_nn_accuracy = get_nn_accuracy(train_scores, y_train, f='mean')\n",
        "val_nn_accuracy = get_nn_accuracy(val_scores, y_val, f='mean')\n",
        "\n",
        "print(f'Train NN accuracy mean {train_nn_accuracy}')\n",
        "print(f'Val NN accuracy mean {val_nn_accuracy}')"
      ],
      "execution_count": 0,
      "outputs": []
    },
    {
      "cell_type": "code",
      "metadata": {
        "id": "6hJxlqvJlEyV",
        "colab_type": "code",
        "colab": {}
      },
      "source": [
        "images = []\n",
        "with zipfile.ZipFile(PATH_DATA, 'r') as zip_file:\n",
        "    image_names = [f[10:] for f in zip_file.namelist() if 'test' in f]\n",
        "\n",
        "    for name in image_names:\n",
        "        with zip_file.open(os.path.join('test', 'test', name)) as img_file:\n",
        "            image = Image.open(img_file).convert('RGB')\n",
        "        images += [(name, image)]\n",
        "\n",
        "predictions = {'filename': [], 'class_number': []}\n",
        "with torch.no_grad():\n",
        "    for i in range(0, len(images), BATCH_SIZE):\n",
        "        j = min(i + BATCH_SIZE, len(images))\n",
        "        batch = images[i:j]\n",
        "        _, xs = zip(*batch)\n",
        "        scores = get_scores(nn_model, xs)\n",
        "        ys = get_predictions(scores, f='mean')\n",
        "\n",
        "        for (name, _), y in zip(images[i:j], ys):\n",
        "            predictions['filename'] += [name]\n",
        "            predictions['class_number'] += [y]\n",
        "\n",
        "predictions = pd.DataFrame(predictions)\n",
        "predictions.to_csv('test_neural.csv', index=False)"
      ],
      "execution_count": 0,
      "outputs": []
    }
  ]
}